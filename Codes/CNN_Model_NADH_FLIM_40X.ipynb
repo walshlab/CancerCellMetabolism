{
 "cells": [
  {
   "cell_type": "code",
   "execution_count": 1,
   "metadata": {},
   "outputs": [],
   "source": [
    "import numpy as np\n",
    "import cv2\n",
    "import re\n",
    "import pandas as pd\n",
    "import os\n",
    "import platform\n",
    "import tensorflow as tf \n",
    "from numpy.random import seed\n",
    "from glob import glob\n",
    "from os.path import basename, join, exists\n",
    "from collections import Counter\n",
    "from json import load, dump\n",
    "from sklearn import metrics\n",
    "from sklearn.utils import shuffle\n",
    "from keras.models import Sequential\n",
    "from keras.layers import Dense, Conv2D, MaxPooling2D, Flatten,BatchNormalization,Activation,AveragePooling2D,Dropout\n",
    "from keras import optimizers\n",
    "from keras.wrappers.scikit_learn import KerasClassifier\n",
    "from keras.callbacks import EarlyStopping\n",
    "from keras.utils import Sequence\n",
    "from tensorflow.keras.optimizers import SGD, Adam\n",
    "# from tensorflow import set_random_seed\n",
    "from IPython.display import display, Markdown\n",
    "from statistics import mean\n",
    "from tensorflow.keras.datasets import mnist\n",
    "from matplotlib import pyplot as plt"
   ]
  },
  {
   "cell_type": "code",
   "execution_count": 2,
   "metadata": {},
   "outputs": [
    {
     "name": "stdout",
     "output_type": "stream",
     "text": [
      "Default GPU Device:/device:GPU:0\n"
     ]
    }
   ],
   "source": [
    "# Test if the jupyternotebook is running on the GPU\n",
    "if tf.test.gpu_device_name(): \n",
    "\n",
    "    print('Default GPU Device:{}'.format(tf.test.gpu_device_name()))\n",
    "\n",
    "else:\n",
    "    print(\"Please install GPU version of TF\")"
   ]
  },
  {
   "cell_type": "markdown",
   "metadata": {},
   "source": [
    "### 1. Read images"
   ]
  },
  {
   "cell_type": "code",
   "execution_count": 3,
   "metadata": {},
   "outputs": [],
   "source": [
    "# define a function to read all the images and add labels\n",
    "# image size = 40 X 40\n",
    "import glob\n",
    "# function to read images and convert each image to a [40,40,1] format\n",
    "def Read_Image_40(imageDirectory):\n",
    "    imageFormat = ['png']    # Add image formats here\n",
    "    files = []\n",
    "    [files.extend(glob.glob(imageDirectory + '*.' + e)) for e in imageFormat]\n",
    "    imagesList = np.empty(len(files), dtype=object)\n",
    "    for n in range(0, len(files)):\n",
    "        image = cv2.imread(files[n],-1)\n",
    "        image.reshape((40, 40, 1))\n",
    "        imagesList[n] = np.array(image)\n",
    "    return imagesList  "
   ]
  },
  {
   "cell_type": "markdown",
   "metadata": {},
   "source": [
    "#### 1.1 Read intensity, tm images"
   ]
  },
  {
   "cell_type": "code",
   "execution_count": 4,
   "metadata": {},
   "outputs": [],
   "source": [
    "# read intensity images\n",
    "controlIntImageDirectory = 'C:/Users/hulinghao/Documents/Python/CNN_Classification_Cell/Dataset/40 x 40/NADH Intensity/Control/'\n",
    "glyIntImageDirectory = 'C:/Users/hulinghao/Documents/Python/CNN_Classification_Cell/Dataset/40 x 40/NADH Intensity/Glycolysis/'\n",
    "cyanideIntImageDirectory = 'C:/Users/hulinghao/Documents/Python/CNN_Classification_Cell/Dataset/40 x 40/NADH Intensity/OXPHOS/'\n",
    "\n",
    "controlIntImageList = Read_Image_40(controlIntImageDirectory)\n",
    "glyIntImageList = Read_Image_40(glyIntImageDirectory)\n",
    "cyanideIntImageList = Read_Image_40(cyanideIntImageDirectory)\n",
    "\n",
    "\n",
    "# read tm images\n",
    "controlTmImageDirectory = 'C:/Users/hulinghao/Documents/Python/CNN_Classification_Cell/Dataset/40 x 40/tm/Control/'\n",
    "glyTmImageDirectory = 'C:/Users/hulinghao/Documents/Python/CNN_Classification_Cell/Dataset/40 x 40/tm/Glycolysis/'\n",
    "cyanideTmImageDirectory = 'C:/Users/hulinghao/Documents/Python/CNN_Classification_Cell/Dataset/40 x 40/tm/OXPHOS/'\n",
    "\n",
    "controlTmImageList = Read_Image_40(controlTmImageDirectory)\n",
    "glyTmImageList = Read_Image_40(glyTmImageDirectory)\n",
    "cyanideTmImageList = Read_Image_40(cyanideTmImageDirectory)\n",
    "\n"
   ]
  },
  {
   "cell_type": "markdown",
   "metadata": {},
   "source": [
    "#### 1.2 Read t1, t2, a1 images"
   ]
  },
  {
   "cell_type": "code",
   "execution_count": 5,
   "metadata": {},
   "outputs": [],
   "source": [
    "# read t1 images\n",
    "controlT1ImageDirectory = 'C:/Users/hulinghao/Documents/Python/CNN_Classification_Cell/Dataset/40 x 40/t1/Control/'\n",
    "glyT1ImageDirectory = 'C:/Users/hulinghao/Documents/Python/CNN_Classification_Cell/Dataset/40 x 40/t1/Glycolysis/'\n",
    "cyanideT1ImageDirectory = 'C:/Users/hulinghao/Documents/Python/CNN_Classification_Cell/Dataset/40 x 40/t1/OXPHOS/'\n",
    "\n",
    "controlT1ImageList = Read_Image_40(controlT1ImageDirectory)\n",
    "glyT1ImageList = Read_Image_40(glyT1ImageDirectory)\n",
    "cyanideT1ImageList = Read_Image_40(cyanideT1ImageDirectory)\n",
    "\n",
    "# read t2 images\n",
    "controlT2ImageDirectory = 'C:/Users/hulinghao/Documents/Python/CNN_Classification_Cell/Dataset/40 x 40/t2/Control/'\n",
    "glyT2ImageDirectory = 'C:/Users/hulinghao/Documents/Python/CNN_Classification_Cell/Dataset/40 x 40/t2/Glycolysis/'\n",
    "cyanideT2ImageDirectory = 'C:/Users/hulinghao/Documents/Python/CNN_Classification_Cell/Dataset/40 x 40/t2/OXPHOS/'\n",
    "\n",
    "controlT2ImageList = Read_Image_40(controlT2ImageDirectory)\n",
    "glyT2ImageList = Read_Image_40(glyT2ImageDirectory)\n",
    "cyanideT2ImageList = Read_Image_40(cyanideT2ImageDirectory)\n",
    "\n",
    "# read a1 images\n",
    "controlA1ImageDirectory = 'C:/Users/hulinghao/Documents/Python/CNN_Classification_Cell/Dataset/40 x 40/a1/Control/'\n",
    "glyA1ImageDirectory = 'C:/Users/hulinghao/Documents/Python/CNN_Classification_Cell/Dataset/40 x 40/a1/Glycolysis/'\n",
    "cyanideA1ImageDirectory = 'C:/Users/hulinghao/Documents/Python/CNN_Classification_Cell/Dataset/40 x 40/a1/OXPHOS/'\n",
    "\n",
    "controlA1ImageList = Read_Image_40(controlA1ImageDirectory)\n",
    "glyA1ImageList = Read_Image_40(glyA1ImageDirectory)\n",
    "cyanideA1ImageList = Read_Image_40(cyanideA1ImageDirectory)"
   ]
  },
  {
   "cell_type": "markdown",
   "metadata": {},
   "source": [
    "#### 1.3 Read FAD intensity images"
   ]
  },
  {
   "cell_type": "code",
   "execution_count": 6,
   "metadata": {},
   "outputs": [],
   "source": [
    "# read FAD intensity images\n",
    "controlFADImageDirectory = 'C:/Users/hulinghao/Documents/Python/CNN_Classification_Cell/Dataset/40 x 40/FAD Intensity/Control/'\n",
    "glyFADImageDirectory = 'C:/Users/hulinghao/Documents/Python/CNN_Classification_Cell/Dataset/40 x 40/FAD Intensity/Glycolysis/'\n",
    "cyanideFADImageDirectory = 'C:/Users/hulinghao/Documents/Python/CNN_Classification_Cell/Dataset/40 x 40/FAD Intensity/OXPHOS/'"
   ]
  },
  {
   "cell_type": "markdown",
   "metadata": {},
   "source": [
    "#### 1.3 Combine the intensiy, tm, t1, t2, a1 images, and add labels"
   ]
  },
  {
   "cell_type": "code",
   "execution_count": 7,
   "metadata": {},
   "outputs": [],
   "source": [
    "def Combine_All_Endpoints(intImageList, tmImageList, t1ImageList, t2ImageList, a1ImageList, label):\n",
    "    imageList = np.empty(len(intImageList), dtype=object)\n",
    "    for i in range(len(intImageList)):\n",
    "            intImage = intImageList[i]\n",
    "            tmImage = tmImageList[i]\n",
    "            t1Image = t1ImageList[i]\n",
    "            t2Image = t2ImageList[i]\n",
    "            a1Image = a1ImageList[i] \n",
    "            image = np.array([intImage,tmImage,t1Image,t2Image,a1Image])\n",
    "            imageList[i] = [np.transpose(image,(1,2,0)),label]\n",
    "    return imageList    "
   ]
  },
  {
   "cell_type": "code",
   "execution_count": 8,
   "metadata": {},
   "outputs": [],
   "source": [
    "controlImageList = Combine_All_Endpoints(controlIntImageList,controlTmImageList,controlT1ImageList,controlT2ImageList,controlA1ImageList,2)\n",
    "glyImageList = Combine_All_Endpoints(glyIntImageList,glyTmImageList,glyT1ImageList,glyT2ImageList,glyA1ImageList,0)\n",
    "cyanideImageList = Combine_All_Endpoints(cyanideIntImageList,cyanideTmImageList,cyanideT1ImageList,cyanideT2ImageList,cyanideA1ImageList,1)"
   ]
  },
  {
   "cell_type": "markdown",
   "metadata": {},
   "source": [
    "#### 1.3 Check a typical image"
   ]
  },
  {
   "cell_type": "code",
   "execution_count": 9,
   "metadata": {},
   "outputs": [],
   "source": [
    "def colorbar(mappable):\n",
    "    from mpl_toolkits.axes_grid1 import make_axes_locatable\n",
    "    import matplotlib.pyplot as plt\n",
    "    last_axes = plt.gca()\n",
    "    ax = mappable.axes\n",
    "    fig = ax.figure\n",
    "    divider = make_axes_locatable(ax)\n",
    "    cax = divider.append_axes(\"right\", size=\"5%\", pad=0.05)\n",
    "    cbar = fig.colorbar(mappable, cax=cax)\n",
    "    plt.sca(last_axes)\n",
    "    return cbar"
   ]
  },
  {
   "cell_type": "markdown",
   "metadata": {},
   "source": [
    "#### Control"
   ]
  },
  {
   "cell_type": "code",
   "execution_count": 10,
   "metadata": {},
   "outputs": [
    {
     "data": {
      "image/png": "[encoded data removed]",
      "text/plain": [
       "<Figure size 1600x1600 with 10 Axes>"
      ]
     },
     "metadata": {
      "needs_background": "light"
     },
     "output_type": "display_data"
    }
   ],
   "source": [
    "n = 1000\n",
    "fig, (ax1, ax2, ax3, ax4, ax5 ) = plt.subplots(ncols=5,figsize=(20, 20), dpi=80)\n",
    "img1 = ax1.imshow(controlImageList[n][0][:,:,0])\n",
    "colorbar(img1)\n",
    "img2 = ax2.imshow(controlImageList[n][0][:,:,1])\n",
    "colorbar(img2)\n",
    "img3 = ax3.imshow(controlImageList[n][0][:,:,2])\n",
    "colorbar(img3)\n",
    "img4 = ax4.imshow(controlImageList[n][0][:,:,3])\n",
    "colorbar(img4)\n",
    "img5 = ax5.imshow(controlImageList[n][0][:,:,4])\n",
    "colorbar(img5)\n",
    "ax1.title.set_text('Intensity')\n",
    "ax2.title.set_text('tm')\n",
    "ax3.title.set_text('t1')\n",
    "ax4.title.set_text('t2')\n",
    "ax5.title.set_text('a1')\n",
    "plt.tight_layout(h_pad=1)"
   ]
  },
  {
   "cell_type": "markdown",
   "metadata": {},
   "source": [
    "#### Glycolysis Inhibition"
   ]
  },
  {
   "cell_type": "code",
   "execution_count": 11,
   "metadata": {},
   "outputs": [
    {
     "data": {
      "image/png": "[encoded data removed]",
      "text/plain": [
       "<Figure size 1600x1600 with 10 Axes>"
      ]
     },
     "metadata": {
      "needs_background": "light"
     },
     "output_type": "display_data"
    }
   ],
   "source": [
    "n = 1000\n",
    "fig, (ax1, ax2, ax3, ax4, ax5 ) = plt.subplots(ncols=5,figsize=(20, 20), dpi=80)\n",
    "img1 = ax1.imshow(glyImageList[n][0][:,:,0])\n",
    "colorbar(img1)\n",
    "img2 = ax2.imshow(glyImageList[n][0][:,:,1])\n",
    "colorbar(img2)\n",
    "img3 = ax3.imshow(glyImageList[n][0][:,:,2])\n",
    "colorbar(img3)\n",
    "img4 = ax4.imshow(glyImageList[n][0][:,:,3])\n",
    "colorbar(img4)\n",
    "img5 = ax5.imshow(glyImageList[n][0][:,:,4])\n",
    "colorbar(img5)\n",
    "ax1.title.set_text('Intensity')\n",
    "ax2.title.set_text('tm')\n",
    "ax3.title.set_text('t1')\n",
    "ax4.title.set_text('t2')\n",
    "ax5.title.set_text('a1')\n",
    "plt.tight_layout(h_pad=1)"
   ]
  },
  {
   "cell_type": "markdown",
   "metadata": {},
   "source": [
    "#### OXPHOS Inhibition"
   ]
  },
  {
   "cell_type": "code",
   "execution_count": 12,
   "metadata": {},
   "outputs": [
    {
     "data": {
      "image/png": "[encoded data removed]",
      "text/plain": [
       "<Figure size 1600x1600 with 10 Axes>"
      ]
     },
     "metadata": {
      "needs_background": "light"
     },
     "output_type": "display_data"
    }
   ],
   "source": [
    "n = 1000\n",
    "fig, (ax1, ax2, ax3, ax4, ax5 ) = plt.subplots(ncols=5,figsize=(20, 20), dpi=80)\n",
    "img1 = ax1.imshow(cyanideImageList[n][0][:,:,0])\n",
    "colorbar(img1)\n",
    "img2 = ax2.imshow(cyanideImageList[n][0][:,:,1])\n",
    "colorbar(img2)\n",
    "img3 = ax3.imshow(cyanideImageList[n][0][:,:,2])\n",
    "colorbar(img3)\n",
    "img4 = ax4.imshow(cyanideImageList[n][0][:,:,3])\n",
    "colorbar(img4)\n",
    "img5 = ax5.imshow(cyanideImageList[n][0][:,:,4])\n",
    "colorbar(img5)\n",
    "ax1.title.set_text('Intensity')\n",
    "ax2.title.set_text('tm')\n",
    "ax3.title.set_text('t1')\n",
    "ax4.title.set_text('t2')\n",
    "ax5.title.set_text('a1')\n",
    "plt.tight_layout(h_pad=1)"
   ]
  },
  {
   "cell_type": "markdown",
   "metadata": {},
   "source": [
    "### 2. Group the images"
   ]
  },
  {
   "cell_type": "code",
   "execution_count": 13,
   "metadata": {},
   "outputs": [],
   "source": [
    "#### 2.1 Combine the dataset\n",
    "# import math\n",
    "# import random\n",
    "# allDataset = np.concatenate((glyImageList,cyanideImageList), axis=0)\n",
    "\n",
    "# random.shuffle(allDataset)\n",
    "# # 75% dataset for training\n",
    "# trainDataset = allDataset[:math.floor(len(allDataset)*0.75)]\n",
    "# # 25% dataset for testing\n",
    "# testDataset = allDataset[math.floor(len(allDataset)*0.75):]"
   ]
  },
  {
   "cell_type": "markdown",
   "metadata": {},
   "source": [
    "#### 2.1 Get the label and image(normalize)"
   ]
  },
  {
   "cell_type": "code",
   "execution_count": 12,
   "metadata": {},
   "outputs": [],
   "source": [
    "import math\n",
    "import random\n",
    "# Here we define a function to get the maximum for each endpoints\n",
    "def Get_Maximum(Dataset):\n",
    "    maxIntensityList = []\n",
    "    maxTmList = []\n",
    "    maxT1List = []\n",
    "    maxT2List = []\n",
    "    maxA1List = []\n",
    "    for image in Dataset:\n",
    "        # Intensity\n",
    "        maxIntensity =  np.amax(image[0][:,:,0])\n",
    "        maxIntensityList.append(maxIntensity)\n",
    "        # tm\n",
    "        maxTm =  np.amax(image[0][:,:,1])\n",
    "        maxTmList.append(maxTm)\n",
    "        # t1\n",
    "        maxT1 =  np.amax(image[0][:,:,2])\n",
    "        maxT1List.append(maxT1)\n",
    "        # t2\n",
    "        maxT2 =  np.amax(image[0][:,:,3])\n",
    "        maxT2List.append(maxT2)\n",
    "        # a1\n",
    "        maxA1 =  np.amax(image[0][:,:,4])\n",
    "        maxA1List.append(maxA1) \n",
    "        \n",
    "        maxValues = np.array ([max(maxIntensityList),max(maxTmList),max(maxT1List),max(maxT2List),max(maxA1List)])\n",
    "    return(maxValues)"
   ]
  },
  {
   "cell_type": "code",
   "execution_count": 13,
   "metadata": {},
   "outputs": [],
   "source": [
    "# allDataset = np.concatenate((glyImageList,cyanideImageList,controlImageList), axis=0)\n",
    "allDataset = np.concatenate((glyImageList,cyanideImageList), axis=0)\n",
    "maxValues = Get_Maximum(allDataset)"
   ]
  },
  {
   "cell_type": "code",
   "execution_count": 14,
   "metadata": {},
   "outputs": [],
   "source": [
    "# Image size is 40 X 40\n",
    "def Get_Label_Image(dataset,maxValues):\n",
    "    label = np.empty(len(dataset), dtype=object)\n",
    "# image size(40,40)\n",
    "    image = np.empty(shape = (len(dataset),40,40,5))\n",
    "\n",
    "    for i in range(len(dataset)):\n",
    "        label[i] = np.array(dataset[i][1])\n",
    "        image[i][:,:,0] = dataset[i][0][:,:,0]/maxValues[0]\n",
    "        image[i][:,:,1] = dataset[i][0][:,:,1]/maxValues[1]\n",
    "        image[i][:,:,2] = dataset[i][0][:,:,2]/maxValues[2]\n",
    "        image[i][:,:,3] = dataset[i][0][:,:,3]/maxValues[3]\n",
    "        image[i][:,:,4] = dataset[i][0][:,:,4]/100\n",
    "    return(image, label)"
   ]
  },
  {
   "cell_type": "code",
   "execution_count": 17,
   "metadata": {},
   "outputs": [],
   "source": [
    "# (trainImage, trainLabel) = Get_Label_Image(trainDataset,maxValues)\n",
    "# (testImage, testLabel) = Get_Label_Image(testDataset,maxValues)"
   ]
  },
  {
   "cell_type": "markdown",
   "metadata": {},
   "source": [
    "#### 2.2 Get training and testing dataset"
   ]
  },
  {
   "cell_type": "code",
   "execution_count": 15,
   "metadata": {},
   "outputs": [],
   "source": [
    "from sklearn.model_selection import train_test_split\n",
    "(allImage,allLabel) = Get_Label_Image(allDataset,maxValues)\n",
    "trainImage,testValidImage,trainLabel,testValidLabel = train_test_split(allImage, allLabel, test_size= 0.4, random_state=1, stratify=allLabel)\n",
    "testImage,validImage,testLabel,validLabel = train_test_split(testValidImage, testValidLabel, test_size= 0.25, random_state=1, stratify=testValidLabel)"
   ]
  },
  {
   "cell_type": "code",
   "execution_count": 16,
   "metadata": {},
   "outputs": [
    {
     "name": "stdout",
     "output_type": "stream",
     "text": [
      "(5067, 40, 40, 5)\n",
      "(3040, 40, 40, 5)\n",
      "(507, 40, 40, 5)\n",
      "(1520, 40, 40, 5)\n",
      "(3040,)\n",
      "(507,)\n",
      "(1520,)\n"
     ]
    }
   ],
   "source": [
    "print(allImage.shape)\n",
    "\n",
    "print(trainImage.shape)\n",
    "print(validImage.shape)\n",
    "print(testImage.shape)\n",
    "\n",
    "print(trainLabel.shape)\n",
    "print(validLabel.shape)\n",
    "print(testLabel.shape)"
   ]
  },
  {
   "cell_type": "markdown",
   "metadata": {},
   "source": [
    "#### 2.3 Check with one image"
   ]
  },
  {
   "cell_type": "code",
   "execution_count": 19,
   "metadata": {},
   "outputs": [
    {
     "data": {
      "text/plain": [
       "(-0.5, 39.5, 39.5, -0.5)"
      ]
     },
     "execution_count": 19,
     "metadata": {},
     "output_type": "execute_result"
    },
    {
     "data": {
      "image/png": "[encoded data removed]",
      "text/plain": [
       "<Figure size 1600x1600 with 5 Axes>"
      ]
     },
     "metadata": {
      "needs_background": "light"
     },
     "output_type": "display_data"
    }
   ],
   "source": [
    "n = 0\n",
    "fig, (ax1, ax2, ax3, ax4, ax5 ) = plt.subplots(ncols=5,figsize=(20, 20), dpi=80)\n",
    "img1 = ax1.imshow(trainImage[n][:,:,0])\n",
    "# colorbar(img1)\n",
    "img2 = ax2.imshow(trainImage[n][:,:,1])\n",
    "# colorbar(img2)\n",
    "img3 = ax3.imshow(trainImage[n][:,:,2])\n",
    "# colorbar(img3)\n",
    "img4 = ax4.imshow(trainImage[n][:,:,3])\n",
    "# colorbar(img4)\n",
    "img5 = ax5.imshow(trainImage[n][:,:,4])\n",
    "# colorbar(img5)\n",
    "ax1.title.set_text('Intensity')\n",
    "ax2.title.set_text('tm')\n",
    "ax3.title.set_text('t1')\n",
    "ax4.title.set_text('t2')\n",
    "ax5.title.set_text('a1')\n",
    "plt.tight_layout(h_pad=1)\n",
    "\n",
    "ax1.axis('off')\n",
    "ax2.axis('off')\n",
    "ax3.axis('off')\n",
    "ax4.axis('off')\n",
    "ax5.axis('off')"
   ]
  },
  {
   "cell_type": "markdown",
   "metadata": {},
   "source": [
    "#### 2.4 label to categorical"
   ]
  },
  {
   "cell_type": "code",
   "execution_count": 21,
   "metadata": {},
   "outputs": [
    {
     "name": "stdout",
     "output_type": "stream",
     "text": [
      "train Image: (3040, 40, 40, 5), train Label: (3040, 2)\n",
      "test Image: (1520, 40, 40, 5), test Label: (1520, 2)\n",
      "valid Image: (507, 40, 40, 5), valid Label: (507, 2)\n",
      "Balanced Class Weight: 0.6973757677275265\n"
     ]
    }
   ],
   "source": [
    "# Summary the data size, and default balanced class weights in the training\n",
    "from tensorflow.keras.utils import to_categorical\n",
    "\n",
    "glyCount = 0\n",
    "OXPHOSCount = 0\n",
    "\n",
    "for label in trainLabel:\n",
    "    if label == 1:\n",
    "        glyCount = glyCount + 1\n",
    "    else:\n",
    "        OXPHOSCount = OXPHOSCount + 1\n",
    "\n",
    "balanceWeightClass = (len(trainLabel)/(2*OXPHOSCount))/(len(trainLabel)/(2*glyCount))\n",
    "\n",
    "# Reshape the images for the model and encode the labels\n",
    "# Generate a variable trainLabel to be convenient for future training and testing\n",
    "trainLabelM = to_categorical(trainLabel,2)\n",
    "testLabelM = to_categorical(testLabel,2)\n",
    "validLabelM = to_categorical(validLabel,2)\n",
    "# Image size 56 X 56 \n",
    "# trainImage = trainImage.reshape((trainImage.shape[0], 56, 56, 2))\n",
    "# testImage = testImage.reshape((testImage.shape[0], 56, 56, 2))\n",
    "\n",
    "print('train Image: {}, train Label: {}'.format(trainImage.shape, trainLabelM.shape))\n",
    "print('test Image: {}, test Label: {}'.format(testImage.shape, testLabelM.shape))\n",
    "print('valid Image: {}, valid Label: {}'.format(validImage.shape, validLabelM.shape))\n",
    "print('Balanced Class Weight: {}'.format(balanceWeightClass))"
   ]
  },
  {
   "cell_type": "markdown",
   "metadata": {},
   "source": [
    "#### 2.5 Enlarge the training dataset"
   ]
  },
  {
   "cell_type": "code",
   "execution_count": 22,
   "metadata": {},
   "outputs": [],
   "source": [
    "# Enlarge the training dataset by rotate 45, 135, 90, 180, 270 degrees, and flip x y \n",
    "\n",
    "from scipy.ndimage.interpolation import rotate\n",
    "import random\n",
    "from scipy import ndimage\n",
    "\n",
    "def Enlarge_Training(imageList):\n",
    "    image45List = np.empty([len(imageList),40,40,5])\n",
    "    image135List = np.empty([len(imageList),40,40,5])\n",
    "    \n",
    "    image90List = np.empty([len(imageList),40,40,5])\n",
    "    image180List = np.empty([len(imageList),40,40,5])\n",
    "    image270List = np.empty([len(imageList),40,40,5])    \n",
    "    imageXflipList = np.empty([len(imageList),40,40,5])\n",
    "    imageYflipList = np.empty([len(imageList),40,40,5])\n",
    "    for i in range(len(imageList)):\n",
    "        image45List[i] = ndimage.rotate(imageList[i], 45, reshape=False)\n",
    "        image135List[i] = ndimage.rotate(imageList[i], 135, reshape=False)\n",
    "        \n",
    "        image90List[i] = np.rot90(imageList[i],k = 1)\n",
    "        image180List[i] = np.rot90(imageList[i],k = 2)\n",
    "        image270List[i] = np.rot90(imageList[i],k = 3)\n",
    "        imageXflipList[i] = np.flip(imageList[i],0)\n",
    "        imageYflipList[i] = np.flip(imageList[i],1)\n",
    "    return(image45List,image135List,image90List,image180List,image270List,imageXflipList,imageYflipList)"
   ]
  },
  {
   "cell_type": "code",
   "execution_count": 23,
   "metadata": {},
   "outputs": [],
   "source": [
    "(image45, image135, image90,image180,image270,imageXflip,imageYflip) = Enlarge_Training(trainImage)"
   ]
  },
  {
   "cell_type": "code",
   "execution_count": 24,
   "metadata": {},
   "outputs": [
    {
     "data": {
      "image/png": "[encoded data removed]",
      "text/plain": [
       "<Figure size 1600x160 with 8 Axes>"
      ]
     },
     "metadata": {
      "needs_background": "light"
     },
     "output_type": "display_data"
    }
   ],
   "source": [
    "# Show intensity images： \n",
    "\n",
    "# select image\n",
    "n = 0\n",
    "\n",
    "fig, ax = plt.subplots(1, 8,figsize=(20,2), dpi=80)\n",
    "\n",
    "ax[0].imshow(trainImage[n, :, :, 0], vmin=0, vmax=1)\n",
    "ax[1].imshow(image90[n, :, :, 0], vmin=0, vmax=1)\n",
    "ax[2].imshow(image180[n, :, :, 0], vmin=0, vmax=1)\n",
    "ax[3].imshow(image270[n, :, :, 0], vmin=0, vmax=1)\n",
    "ax[4].imshow(imageXflip[n, :, :, 0], vmin=0, vmax=1)\n",
    "ax[5].imshow(imageYflip[n, :, :, 0], vmin=0, vmax=1)\n",
    "ax[6].imshow(image45[n, :, :, 0], vmin=0, vmax=1)\n",
    "ax[7].imshow(image135[n, :, :, 0], vmin=0, vmax=1)\n",
    "fig.suptitle('Intensity', fontsize=12)\n",
    "# fig.colorbar(a)\n",
    "plt.show()"
   ]
  },
  {
   "cell_type": "code",
   "execution_count": 33,
   "metadata": {},
   "outputs": [
    {
     "data": {
      "image/png": "[encoded data removed]",
      "text/plain": [
       "<Figure size 1600x160 with 8 Axes>"
      ]
     },
     "metadata": {
      "needs_background": "light"
     },
     "output_type": "display_data"
    }
   ],
   "source": [
    "# Show lifetime images： \n",
    "\n",
    "# select image\n",
    "\n",
    "fig, ax = plt.subplots(1, 8,figsize=(20,2), dpi=80)\n",
    "\n",
    "ax[0].imshow(trainImage[n, :, :, 1], vmin=0, vmax=1)\n",
    "ax[1].imshow(image90[n, :, :, 1], vmin=0, vmax=1)\n",
    "ax[2].imshow(image180[n, :, :, 1], vmin=0, vmax=1)\n",
    "ax[3].imshow(image270[n, :, :, 1], vmin=0, vmax=1)\n",
    "ax[4].imshow(imageXflip[n, :, :, 1], vmin=0, vmax=1)\n",
    "ax[5].imshow(imageYflip[n, :, :, 1], vmin=0, vmax=1)\n",
    "ax[6].imshow(image45[n, :, :, 1], vmin=0, vmax=1)\n",
    "ax[7].imshow(image135[n, :, :, 1], vmin=0, vmax=1)\n",
    "# fig.suptitle('tm', fontsize=12)\n",
    "# fig.colorbar(a)\n",
    "ax[0].axis('off')\n",
    "ax[1].axis('off')\n",
    "ax[2].axis('off')\n",
    "ax[3].axis('off')\n",
    "ax[4].axis('off')\n",
    "ax[5].axis('off')\n",
    "ax[6].axis('off')\n",
    "ax[7].axis('off')\n",
    "\n",
    "\n",
    "plt.show()"
   ]
  },
  {
   "cell_type": "code",
   "execution_count": 24,
   "metadata": {},
   "outputs": [
    {
     "data": {
      "image/png": "[encoded data removed]",
      "text/plain": [
       "<Figure size 1600x160 with 8 Axes>"
      ]
     },
     "metadata": {
      "needs_background": "light"
     },
     "output_type": "display_data"
    }
   ],
   "source": [
    "fig, ax = plt.subplots(1, 8,figsize=(20,2), dpi=80)\n",
    "\n",
    "ax[0].imshow(trainImage[n, :, :, 2], vmin=0, vmax=1)\n",
    "ax[1].imshow(image90[n, :, :, 2], vmin=0, vmax=1)\n",
    "ax[2].imshow(image180[n, :, :, 2], vmin=0, vmax=1)\n",
    "ax[3].imshow(image270[n, :, :, 2], vmin=0, vmax=1)\n",
    "ax[4].imshow(imageXflip[n, :, :, 2], vmin=0, vmax=1)\n",
    "ax[5].imshow(imageYflip[n, :, :, 2], vmin=0, vmax=1)\n",
    "ax[6].imshow(image45[n, :, :, 2], vmin=0, vmax=1)\n",
    "ax[7].imshow(image135[n, :, :, 2], vmin=0, vmax=1)\n",
    "fig.suptitle('t1', fontsize=12)\n",
    "# fig.colorbar(a)\n",
    "plt.show()"
   ]
  },
  {
   "cell_type": "code",
   "execution_count": 25,
   "metadata": {},
   "outputs": [
    {
     "data": {
      "image/png": "[encoded data removed]",
      "text/plain": [
       "<Figure size 1600x160 with 8 Axes>"
      ]
     },
     "metadata": {
      "needs_background": "light"
     },
     "output_type": "display_data"
    }
   ],
   "source": [
    "fig, ax = plt.subplots(1, 8,figsize=(20,2), dpi=80)\n",
    "\n",
    "ax[0].imshow(trainImage[n, :, :, 3], vmin=0, vmax=1)\n",
    "ax[1].imshow(image90[n, :, :, 3], vmin=0, vmax=1)\n",
    "ax[2].imshow(image180[n, :, :, 3], vmin=0, vmax=1)\n",
    "ax[3].imshow(image270[n, :, :, 3], vmin=0, vmax=1)\n",
    "ax[4].imshow(imageXflip[n, :, :, 3], vmin=0, vmax=1)\n",
    "ax[5].imshow(imageYflip[n, :, :, 3], vmin=0, vmax=1)\n",
    "ax[6].imshow(image45[n, :, :, 3], vmin=0, vmax=1)\n",
    "ax[7].imshow(image135[n, :, :, 3], vmin=0, vmax=1)\n",
    "fig.suptitle('t2', fontsize=12)\n",
    "# fig.colorbar(a)\n",
    "plt.show()"
   ]
  },
  {
   "cell_type": "code",
   "execution_count": 26,
   "metadata": {},
   "outputs": [
    {
     "data": {
      "image/png": "[encoded data removed]",
      "text/plain": [
       "<Figure size 1600x160 with 8 Axes>"
      ]
     },
     "metadata": {
      "needs_background": "light"
     },
     "output_type": "display_data"
    }
   ],
   "source": [
    "fig, ax = plt.subplots(1, 8,figsize=(20,2), dpi=80)\n",
    "\n",
    "ax[0].imshow(trainImage[n, :, :, 4], vmin=0, vmax=1)\n",
    "ax[1].imshow(image90[n, :, :, 4], vmin=0, vmax=1)\n",
    "ax[2].imshow(image180[n, :, :, 4], vmin=0, vmax=1)\n",
    "ax[3].imshow(image270[n, :, :, 4], vmin=0, vmax=1)\n",
    "ax[4].imshow(imageXflip[n, :, :, 4], vmin=0, vmax=1)\n",
    "ax[5].imshow(imageYflip[n, :, :, 4], vmin=0, vmax=1)\n",
    "ax[6].imshow(image45[n, :, :, 4], vmin=0, vmax=1)\n",
    "ax[7].imshow(image135[n, :, :, 4], vmin=0, vmax=1)\n",
    "fig.suptitle('a1', fontsize=12)\n",
    "# fig.colorbar(a)\n",
    "plt.show()"
   ]
  },
  {
   "cell_type": "code",
   "execution_count": 16,
   "metadata": {},
   "outputs": [],
   "source": [
    "enlargeTrainImage = np.concatenate((trainImage,image90,image180,image270,imageXflip,imageYflip,image45,image135),axis = 0)\n",
    "enlargeTrainLabel = np.concatenate((trainLabelM,trainLabelM,trainLabelM,trainLabelM,trainLabelM,trainLabelM,trainLabelM,trainLabelM),axis = 0)"
   ]
  },
  {
   "cell_type": "code",
   "execution_count": 17,
   "metadata": {},
   "outputs": [
    {
     "name": "stdout",
     "output_type": "stream",
     "text": [
      "24320\n",
      "24320\n"
     ]
    },
    {
     "data": {
      "text/plain": [
       "(24320, 2)"
      ]
     },
     "execution_count": 17,
     "metadata": {},
     "output_type": "execute_result"
    }
   ],
   "source": [
    "print(len(enlargeTrainImage))\n",
    "\n",
    "print(len(enlargeTrainLabel))\n",
    "# enlargeTrainLabel.shape\n",
    "enlargeTrainImage.shape\n",
    "enlargeTrainLabel.shape"
   ]
  },
  {
   "cell_type": "markdown",
   "metadata": {},
   "source": [
    "### 3. Develop CNN"
   ]
  },
  {
   "cell_type": "markdown",
   "metadata": {},
   "source": [
    "#### 3.1 Develop the CNN Model"
   ]
  },
  {
   "cell_type": "code",
   "execution_count": 30,
   "metadata": {},
   "outputs": [],
   "source": [
    "def Develop_Model():\n",
    "    model = Sequential()\n",
    "    model.add(Conv2D(filters = 64, \n",
    "                     kernel_size = (3, 3), \n",
    "                     padding=\"valid\",\n",
    "                     activation='sigmoid', \n",
    "                     input_shape=(40, 40, 5)))\n",
    "    model.add(MaxPooling2D(pool_size=(3, 3), strides = 3))\n",
    "    model.add(BatchNormalization())\n",
    "    \n",
    "    \n",
    "    model.add(Conv2D(filters = 64,\n",
    "                     kernel_size=(3,3),\n",
    "                     padding=\"valid\",\n",
    "                     activation=\"sigmoid\"))    \n",
    "    model.add(MaxPooling2D(pool_size = 3, strides = 3))\n",
    "    model.add(BatchNormalization())\n",
    "\n",
    "#    map to 1x1 (flatten layer)\n",
    "    model.add(Flatten())\n",
    "    \n",
    "    model.add(Dense(120, activation=\"tanh\"))\n",
    "    model.add(Dropout(0.2))\n",
    "    model.add(Dense(80, activation=\"tanh\"))\n",
    "    model.add(Dropout(0.2))\n",
    "    model.add(Dense(2, activation=\"softmax\", name=\"Output\"))\n",
    "\n",
    "    \n",
    "    # compile model\n",
    "    opt = SGD(lr=0.00001, momentum=0.9)\n",
    "    model.compile(optimizer=opt, loss='binary_crossentropy', metrics=['accuracy'])\n",
    "    \n",
    "    return model"
   ]
  },
  {
   "cell_type": "code",
   "execution_count": 32,
   "metadata": {},
   "outputs": [
    {
     "name": "stdout",
     "output_type": "stream",
     "text": [
      "= 62.763\n"
     ]
    }
   ],
   "source": [
    "from sklearn.model_selection import KFold\n",
    "from sklearn.utils import class_weight\n",
    "# fit model\n",
    "\n",
    "history = lenet.fit(trainImage, trainLabelM, epochs = 10, batch_size = 32,validation_data=(validImage, validLabelM), verbose=0)\n",
    "# evaluate model\n",
    "_, acc = lenet.evaluate(testImage, testLabelM, verbose=0)\n",
    "print('= %.3f' % (acc * 100.0))"
   ]
  },
  {
   "cell_type": "code",
   "execution_count": 31,
   "metadata": {},
   "outputs": [
    {
     "name": "stdout",
     "output_type": "stream",
     "text": [
      "Model: \"sequential\"\n",
      "_________________________________________________________________\n",
      "Layer (type)                 Output Shape              Param #   \n",
      "=================================================================\n",
      "conv2d (Conv2D)              (None, 38, 38, 64)        2944      \n",
      "_________________________________________________________________\n",
      "max_pooling2d (MaxPooling2D) (None, 12, 12, 64)        0         \n",
      "_________________________________________________________________\n",
      "batch_normalization (BatchNo (None, 12, 12, 64)        256       \n",
      "_________________________________________________________________\n",
      "conv2d_1 (Conv2D)            (None, 10, 10, 64)        36928     \n",
      "_________________________________________________________________\n",
      "max_pooling2d_1 (MaxPooling2 (None, 3, 3, 64)          0         \n",
      "_________________________________________________________________\n",
      "batch_normalization_1 (Batch (None, 3, 3, 64)          256       \n",
      "_________________________________________________________________\n",
      "flatten (Flatten)            (None, 576)               0         \n",
      "_________________________________________________________________\n",
      "dense (Dense)                (None, 120)               69240     \n",
      "_________________________________________________________________\n",
      "dropout (Dropout)            (None, 120)               0         \n",
      "_________________________________________________________________\n",
      "dense_1 (Dense)              (None, 80)                9680      \n",
      "_________________________________________________________________\n",
      "dropout_1 (Dropout)          (None, 80)                0         \n",
      "_________________________________________________________________\n",
      "Output (Dense)               (None, 2)                 162       \n",
      "=================================================================\n",
      "Total params: 119,466\n",
      "Trainable params: 119,210\n",
      "Non-trainable params: 256\n",
      "_________________________________________________________________\n"
     ]
    }
   ],
   "source": [
    "lenet = Develop_Model()\n",
    "lenet.summary()"
   ]
  },
  {
   "cell_type": "code",
   "execution_count": 33,
   "metadata": {},
   "outputs": [
    {
     "name": "stdout",
     "output_type": "stream",
     "text": [
      "Epoch 1/100\n",
      "1520/1520 [==============================] - 7s 4ms/step - loss: 0.6552 - accuracy: 0.6424 - val_loss: 0.5968 - val_accuracy: 0.6923\n",
      "Epoch 2/100\n",
      "1520/1520 [==============================] - 7s 4ms/step - loss: 0.5987 - accuracy: 0.7066 - val_loss: 0.5408 - val_accuracy: 0.7653\n",
      "Epoch 3/100\n",
      "1520/1520 [==============================] - 7s 4ms/step - loss: 0.5465 - accuracy: 0.7544 - val_loss: 0.4906 - val_accuracy: 0.8126\n",
      "Epoch 4/100\n",
      "1520/1520 [==============================] - 7s 4ms/step - loss: 0.5023 - accuracy: 0.7884 - val_loss: 0.4507 - val_accuracy: 0.8245\n",
      "Epoch 5/100\n",
      "1520/1520 [==============================] - 7s 4ms/step - loss: 0.4651 - accuracy: 0.8067 - val_loss: 0.4201 - val_accuracy: 0.8323\n",
      "Epoch 6/100\n",
      "1520/1520 [==============================] - 7s 4ms/step - loss: 0.4371 - accuracy: 0.8214 - val_loss: 0.3990 - val_accuracy: 0.8323\n",
      "Epoch 7/100\n",
      "1520/1520 [==============================] - 7s 4ms/step - loss: 0.4194 - accuracy: 0.8291 - val_loss: 0.3853 - val_accuracy: 0.8343\n",
      "Epoch 8/100\n",
      "1520/1520 [==============================] - 6s 4ms/step - loss: 0.4038 - accuracy: 0.8354 - val_loss: 0.3757 - val_accuracy: 0.8343\n",
      "Epoch 9/100\n",
      "1520/1520 [==============================] - 7s 4ms/step - loss: 0.3934 - accuracy: 0.8406 - val_loss: 0.3682 - val_accuracy: 0.8402\n",
      "Epoch 10/100\n",
      "1520/1520 [==============================] - 7s 5ms/step - loss: 0.3863 - accuracy: 0.8438 - val_loss: 0.3620 - val_accuracy: 0.8383\n",
      "Epoch 11/100\n",
      "1520/1520 [==============================] - 7s 5ms/step - loss: 0.3794 - accuracy: 0.8465 - val_loss: 0.3561 - val_accuracy: 0.8402\n",
      "Epoch 12/100\n",
      "1520/1520 [==============================] - 7s 5ms/step - loss: 0.3734 - accuracy: 0.8475 - val_loss: 0.3529 - val_accuracy: 0.8481\n",
      "Epoch 13/100\n",
      "1520/1520 [==============================] - 7s 4ms/step - loss: 0.3685 - accuracy: 0.8515 - val_loss: 0.3482 - val_accuracy: 0.8501\n",
      "Epoch 14/100\n",
      "1520/1520 [==============================] - 6s 4ms/step - loss: 0.3623 - accuracy: 0.8518 - val_loss: 0.3471 - val_accuracy: 0.8422\n",
      "Epoch 15/100\n",
      "1520/1520 [==============================] - 7s 4ms/step - loss: 0.3578 - accuracy: 0.8557 - val_loss: 0.3429 - val_accuracy: 0.8481\n",
      "Epoch 16/100\n",
      "1520/1520 [==============================] - 7s 4ms/step - loss: 0.3548 - accuracy: 0.8564 - val_loss: 0.3393 - val_accuracy: 0.8462\n",
      "Epoch 17/100\n",
      "1520/1520 [==============================] - 6s 4ms/step - loss: 0.3521 - accuracy: 0.8580 - val_loss: 0.3369 - val_accuracy: 0.8540\n",
      "Epoch 18/100\n",
      "1520/1520 [==============================] - 7s 4ms/step - loss: 0.3474 - accuracy: 0.8625 - val_loss: 0.3361 - val_accuracy: 0.8521\n",
      "Epoch 19/100\n",
      "1520/1520 [==============================] - 7s 4ms/step - loss: 0.3429 - accuracy: 0.8623 - val_loss: 0.3338 - val_accuracy: 0.8560\n",
      "Epoch 20/100\n",
      "1520/1520 [==============================] - 7s 4ms/step - loss: 0.3456 - accuracy: 0.8594 - val_loss: 0.3294 - val_accuracy: 0.8679\n",
      "Epoch 21/100\n",
      "1520/1520 [==============================] - 7s 4ms/step - loss: 0.3399 - accuracy: 0.8611 - val_loss: 0.3281 - val_accuracy: 0.8639\n",
      "Epoch 22/100\n",
      "1520/1520 [==============================] - 7s 5ms/step - loss: 0.3388 - accuracy: 0.8627 - val_loss: 0.3264 - val_accuracy: 0.8619\n",
      "Epoch 23/100\n",
      "1520/1520 [==============================] - 6s 4ms/step - loss: 0.3341 - accuracy: 0.8656 - val_loss: 0.3232 - val_accuracy: 0.8698\n",
      "Epoch 24/100\n",
      "1520/1520 [==============================] - 6s 4ms/step - loss: 0.3322 - accuracy: 0.8669 - val_loss: 0.3216 - val_accuracy: 0.8679\n",
      "Epoch 25/100\n",
      "1520/1520 [==============================] - 7s 4ms/step - loss: 0.3293 - accuracy: 0.8672 - val_loss: 0.3203 - val_accuracy: 0.8679\n",
      "Epoch 26/100\n",
      "1520/1520 [==============================] - 6s 4ms/step - loss: 0.3277 - accuracy: 0.8676 - val_loss: 0.3173 - val_accuracy: 0.8718\n",
      "Epoch 27/100\n",
      "1520/1520 [==============================] - 7s 4ms/step - loss: 0.3240 - accuracy: 0.8710 - val_loss: 0.3154 - val_accuracy: 0.8698\n",
      "Epoch 28/100\n",
      "1520/1520 [==============================] - 7s 4ms/step - loss: 0.3251 - accuracy: 0.8699 - val_loss: 0.3130 - val_accuracy: 0.8757\n",
      "Epoch 29/100\n",
      "1520/1520 [==============================] - 7s 4ms/step - loss: 0.3219 - accuracy: 0.8723 - val_loss: 0.3117 - val_accuracy: 0.8738\n",
      "Epoch 30/100\n",
      "1520/1520 [==============================] - 7s 4ms/step - loss: 0.3175 - accuracy: 0.8734 - val_loss: 0.3112 - val_accuracy: 0.8757\n",
      "Epoch 31/100\n",
      "1520/1520 [==============================] - 7s 4ms/step - loss: 0.3167 - accuracy: 0.8736 - val_loss: 0.3096 - val_accuracy: 0.8757\n",
      "Epoch 32/100\n",
      "1520/1520 [==============================] - 7s 4ms/step - loss: 0.3136 - accuracy: 0.8757 - val_loss: 0.3072 - val_accuracy: 0.8777\n",
      "Epoch 33/100\n",
      "1520/1520 [==============================] - 7s 4ms/step - loss: 0.3104 - accuracy: 0.8778 - val_loss: 0.3036 - val_accuracy: 0.8817\n",
      "Epoch 34/100\n",
      "1520/1520 [==============================] - 7s 4ms/step - loss: 0.3094 - accuracy: 0.8775 - val_loss: 0.3007 - val_accuracy: 0.8817\n",
      "Epoch 35/100\n",
      "1520/1520 [==============================] - 6s 4ms/step - loss: 0.3092 - accuracy: 0.8785 - val_loss: 0.2998 - val_accuracy: 0.8817\n",
      "Epoch 36/100\n",
      "1520/1520 [==============================] - 7s 4ms/step - loss: 0.3049 - accuracy: 0.8798 - val_loss: 0.2986 - val_accuracy: 0.8817\n",
      "Epoch 37/100\n",
      "1520/1520 [==============================] - 7s 4ms/step - loss: 0.3024 - accuracy: 0.8804 - val_loss: 0.2953 - val_accuracy: 0.8836\n",
      "Epoch 38/100\n",
      "1520/1520 [==============================] - 7s 4ms/step - loss: 0.2996 - accuracy: 0.8813 - val_loss: 0.2931 - val_accuracy: 0.8836\n",
      "Epoch 39/100\n",
      "1520/1520 [==============================] - 7s 4ms/step - loss: 0.2945 - accuracy: 0.8850 - val_loss: 0.2906 - val_accuracy: 0.8856\n",
      "Epoch 40/100\n",
      "1520/1520 [==============================] - 6s 4ms/step - loss: 0.2924 - accuracy: 0.8860 - val_loss: 0.2880 - val_accuracy: 0.8895\n",
      "Epoch 41/100\n",
      "1520/1520 [==============================] - 7s 4ms/step - loss: 0.2899 - accuracy: 0.8861 - val_loss: 0.2869 - val_accuracy: 0.8935\n",
      "Epoch 42/100\n",
      "1520/1520 [==============================] - 7s 4ms/step - loss: 0.2895 - accuracy: 0.8865 - val_loss: 0.2835 - val_accuracy: 0.8895\n",
      "Epoch 43/100\n",
      "1520/1520 [==============================] - 7s 4ms/step - loss: 0.2861 - accuracy: 0.8890 - val_loss: 0.2816 - val_accuracy: 0.8935\n",
      "Epoch 44/100\n",
      "1520/1520 [==============================] - 7s 4ms/step - loss: 0.2842 - accuracy: 0.8891 - val_loss: 0.2804 - val_accuracy: 0.8915\n",
      "Epoch 45/100\n",
      "1520/1520 [==============================] - 6s 4ms/step - loss: 0.2776 - accuracy: 0.8936 - val_loss: 0.2764 - val_accuracy: 0.8974\n",
      "Epoch 46/100\n",
      "1520/1520 [==============================] - 7s 5ms/step - loss: 0.2794 - accuracy: 0.8924 - val_loss: 0.2769 - val_accuracy: 0.8994\n",
      "Epoch 47/100\n",
      "1520/1520 [==============================] - 7s 5ms/step - loss: 0.2799 - accuracy: 0.8920 - val_loss: 0.2715 - val_accuracy: 0.8994\n",
      "Epoch 48/100\n",
      "1520/1520 [==============================] - 7s 5ms/step - loss: 0.2724 - accuracy: 0.8972 - val_loss: 0.2731 - val_accuracy: 0.8974\n",
      "Epoch 49/100\n",
      "1520/1520 [==============================] - 7s 5ms/step - loss: 0.2687 - accuracy: 0.8968 - val_loss: 0.2659 - val_accuracy: 0.8994\n",
      "Epoch 50/100\n",
      "1520/1520 [==============================] - 7s 4ms/step - loss: 0.2658 - accuracy: 0.8988 - val_loss: 0.2690 - val_accuracy: 0.9014\n",
      "Epoch 51/100\n",
      "1520/1520 [==============================] - 7s 4ms/step - loss: 0.2612 - accuracy: 0.8997 - val_loss: 0.2627 - val_accuracy: 0.8994\n",
      "Epoch 52/100\n",
      "1520/1520 [==============================] - 7s 4ms/step - loss: 0.2602 - accuracy: 0.8997 - val_loss: 0.2581 - val_accuracy: 0.9014\n",
      "Epoch 53/100\n",
      "1520/1520 [==============================] - 7s 5ms/step - loss: 0.2600 - accuracy: 0.8996 - val_loss: 0.2615 - val_accuracy: 0.9073\n",
      "Epoch 54/100\n",
      "1520/1520 [==============================] - 7s 4ms/step - loss: 0.2528 - accuracy: 0.9021 - val_loss: 0.2538 - val_accuracy: 0.9093\n",
      "Epoch 55/100\n",
      "1520/1520 [==============================] - 7s 4ms/step - loss: 0.2524 - accuracy: 0.9034 - val_loss: 0.2510 - val_accuracy: 0.9034\n",
      "Epoch 56/100\n",
      "1520/1520 [==============================] - 7s 5ms/step - loss: 0.2463 - accuracy: 0.9063 - val_loss: 0.2491 - val_accuracy: 0.9053\n",
      "Epoch 57/100\n",
      "1520/1520 [==============================] - 7s 4ms/step - loss: 0.2463 - accuracy: 0.9058 - val_loss: 0.2462 - val_accuracy: 0.9152\n",
      "Epoch 58/100\n",
      "1520/1520 [==============================] - 7s 4ms/step - loss: 0.2419 - accuracy: 0.9075 - val_loss: 0.2434 - val_accuracy: 0.9132\n",
      "Epoch 59/100\n",
      "1520/1520 [==============================] - 7s 4ms/step - loss: 0.2414 - accuracy: 0.9081 - val_loss: 0.2430 - val_accuracy: 0.9093\n",
      "Epoch 60/100\n",
      "1520/1520 [==============================] - 7s 4ms/step - loss: 0.2370 - accuracy: 0.9118 - val_loss: 0.2397 - val_accuracy: 0.9152\n",
      "Epoch 61/100\n",
      "1520/1520 [==============================] - 7s 4ms/step - loss: 0.2384 - accuracy: 0.9102 - val_loss: 0.2373 - val_accuracy: 0.9211\n",
      "Epoch 62/100\n",
      "1520/1520 [==============================] - 7s 4ms/step - loss: 0.2334 - accuracy: 0.9119 - val_loss: 0.2360 - val_accuracy: 0.9211\n",
      "Epoch 63/100\n",
      "1520/1520 [==============================] - 7s 4ms/step - loss: 0.2313 - accuracy: 0.9137 - val_loss: 0.2394 - val_accuracy: 0.9191\n",
      "Epoch 64/100\n",
      "1520/1520 [==============================] - 7s 4ms/step - loss: 0.2267 - accuracy: 0.9160 - val_loss: 0.2322 - val_accuracy: 0.9250\n",
      "Epoch 65/100\n",
      "1520/1520 [==============================] - 7s 4ms/step - loss: 0.2251 - accuracy: 0.9166 - val_loss: 0.2303 - val_accuracy: 0.9270\n",
      "Epoch 66/100\n",
      "1520/1520 [==============================] - 7s 4ms/step - loss: 0.2245 - accuracy: 0.9168 - val_loss: 0.2287 - val_accuracy: 0.9231\n",
      "Epoch 67/100\n",
      "1520/1520 [==============================] - 7s 4ms/step - loss: 0.2212 - accuracy: 0.9183 - val_loss: 0.2277 - val_accuracy: 0.9231\n",
      "Epoch 68/100\n",
      "1520/1520 [==============================] - 7s 4ms/step - loss: 0.2221 - accuracy: 0.9176 - val_loss: 0.2282 - val_accuracy: 0.9250\n",
      "Epoch 69/100\n",
      "1520/1520 [==============================] - 7s 4ms/step - loss: 0.2125 - accuracy: 0.9201 - val_loss: 0.2361 - val_accuracy: 0.9152\n",
      "Epoch 70/100\n",
      "1520/1520 [==============================] - 7s 4ms/step - loss: 0.2142 - accuracy: 0.9194 - val_loss: 0.2240 - val_accuracy: 0.9290\n",
      "Epoch 71/100\n",
      "1520/1520 [==============================] - 7s 4ms/step - loss: 0.2149 - accuracy: 0.9195 - val_loss: 0.2232 - val_accuracy: 0.9290\n",
      "Epoch 72/100\n",
      "1520/1520 [==============================] - 7s 4ms/step - loss: 0.2087 - accuracy: 0.9233 - val_loss: 0.2217 - val_accuracy: 0.9290\n",
      "Epoch 73/100\n",
      "1520/1520 [==============================] - 7s 4ms/step - loss: 0.2115 - accuracy: 0.9226 - val_loss: 0.2323 - val_accuracy: 0.9231\n",
      "Epoch 74/100\n",
      "1520/1520 [==============================] - 7s 4ms/step - loss: 0.2085 - accuracy: 0.9249 - val_loss: 0.2197 - val_accuracy: 0.9270\n",
      "Epoch 75/100\n",
      "1520/1520 [==============================] - 7s 4ms/step - loss: 0.2030 - accuracy: 0.9252 - val_loss: 0.2284 - val_accuracy: 0.9231\n",
      "Epoch 76/100\n",
      "1520/1520 [==============================] - 7s 4ms/step - loss: 0.2039 - accuracy: 0.9228 - val_loss: 0.2185 - val_accuracy: 0.9290\n",
      "Epoch 77/100\n",
      "1520/1520 [==============================] - 7s 4ms/step - loss: 0.2027 - accuracy: 0.9247 - val_loss: 0.2169 - val_accuracy: 0.9290\n",
      "Epoch 78/100\n",
      "1520/1520 [==============================] - 7s 5ms/step - loss: 0.2018 - accuracy: 0.9253 - val_loss: 0.2155 - val_accuracy: 0.9270\n",
      "Epoch 79/100\n",
      "1520/1520 [==============================] - 7s 4ms/step - loss: 0.1997 - accuracy: 0.9269 - val_loss: 0.2156 - val_accuracy: 0.9290\n",
      "Epoch 80/100\n",
      "1520/1520 [==============================] - 7s 4ms/step - loss: 0.2006 - accuracy: 0.9257 - val_loss: 0.2151 - val_accuracy: 0.9231\n",
      "Epoch 81/100\n",
      "1520/1520 [==============================] - 7s 4ms/step - loss: 0.1962 - accuracy: 0.9279 - val_loss: 0.2151 - val_accuracy: 0.9290\n",
      "Epoch 82/100\n",
      "1520/1520 [==============================] - 7s 4ms/step - loss: 0.1959 - accuracy: 0.9279 - val_loss: 0.2141 - val_accuracy: 0.9290\n",
      "Epoch 83/100\n",
      "1520/1520 [==============================] - 7s 4ms/step - loss: 0.1960 - accuracy: 0.9278 - val_loss: 0.2325 - val_accuracy: 0.9152\n",
      "Epoch 84/100\n",
      "1520/1520 [==============================] - 7s 5ms/step - loss: 0.1924 - accuracy: 0.9281 - val_loss: 0.2154 - val_accuracy: 0.9250\n",
      "Epoch 85/100\n",
      "1520/1520 [==============================] - 7s 4ms/step - loss: 0.1905 - accuracy: 0.9301 - val_loss: 0.2124 - val_accuracy: 0.9329\n",
      "Epoch 86/100\n",
      "1520/1520 [==============================] - 7s 4ms/step - loss: 0.1891 - accuracy: 0.9295 - val_loss: 0.2135 - val_accuracy: 0.9310\n",
      "Epoch 87/100\n",
      "1520/1520 [==============================] - 7s 5ms/step - loss: 0.1877 - accuracy: 0.9308 - val_loss: 0.2154 - val_accuracy: 0.9250\n",
      "Epoch 88/100\n",
      "1520/1520 [==============================] - 7s 5ms/step - loss: 0.1868 - accuracy: 0.9312 - val_loss: 0.2100 - val_accuracy: 0.9310\n",
      "Epoch 89/100\n",
      "1520/1520 [==============================] - 7s 5ms/step - loss: 0.1848 - accuracy: 0.9334 - val_loss: 0.2249 - val_accuracy: 0.9152\n",
      "Epoch 90/100\n",
      "1520/1520 [==============================] - 7s 5ms/step - loss: 0.1868 - accuracy: 0.9306 - val_loss: 0.2094 - val_accuracy: 0.9310\n",
      "Epoch 91/100\n",
      "1520/1520 [==============================] - 7s 4ms/step - loss: 0.1843 - accuracy: 0.9350 - val_loss: 0.2102 - val_accuracy: 0.9290\n",
      "Epoch 92/100\n",
      "1520/1520 [==============================] - 7s 4ms/step - loss: 0.1857 - accuracy: 0.9315 - val_loss: 0.2105 - val_accuracy: 0.9329\n",
      "Epoch 93/100\n",
      "1520/1520 [==============================] - 7s 5ms/step - loss: 0.1838 - accuracy: 0.9309 - val_loss: 0.2136 - val_accuracy: 0.9250\n",
      "Epoch 94/100\n",
      "1520/1520 [==============================] - 7s 4ms/step - loss: 0.1827 - accuracy: 0.9319 - val_loss: 0.2113 - val_accuracy: 0.9250\n",
      "Epoch 95/100\n",
      "1520/1520 [==============================] - 7s 5ms/step - loss: 0.1808 - accuracy: 0.9355 - val_loss: 0.2094 - val_accuracy: 0.9290\n",
      "Epoch 96/100\n",
      "1520/1520 [==============================] - 7s 5ms/step - loss: 0.1809 - accuracy: 0.9354 - val_loss: 0.2081 - val_accuracy: 0.9329\n",
      "Epoch 97/100\n",
      "1520/1520 [==============================] - 7s 5ms/step - loss: 0.1795 - accuracy: 0.9338 - val_loss: 0.2355 - val_accuracy: 0.9073\n",
      "Epoch 98/100\n",
      "1520/1520 [==============================] - 7s 4ms/step - loss: 0.1762 - accuracy: 0.9352 - val_loss: 0.2352 - val_accuracy: 0.9152\n",
      "Epoch 99/100\n",
      "1520/1520 [==============================] - 7s 5ms/step - loss: 0.1767 - accuracy: 0.9363 - val_loss: 0.2118 - val_accuracy: 0.9231\n",
      "Epoch 100/100\n",
      "1520/1520 [==============================] - 7s 5ms/step - loss: 0.1757 - accuracy: 0.9367 - val_loss: 0.2071 - val_accuracy: 0.9310\n"
     ]
    }
   ],
   "source": [
    "es = EarlyStopping(monitor='val_loss', mode='min', verbose=1,patience = 50)\n",
    "history = lenet.fit(enlargeTrainImage, enlargeTrainLabel, epochs = 100, batch_size = 16,validation_data=(validImage, validLabelM), verbose = 1,callbacks=[es])"
   ]
  },
  {
   "cell_type": "code",
   "execution_count": 34,
   "metadata": {},
   "outputs": [
    {
     "data": {
      "image/png": "[encoded data removed]",
      "text/plain": [
       "<Figure size 432x288 with 1 Axes>"
      ]
     },
     "metadata": {
      "needs_background": "light"
     },
     "output_type": "display_data"
    }
   ],
   "source": [
    "from matplotlib import pyplot\n",
    "# plot training history\n",
    "pyplot.plot(history.history['loss'], label='train')\n",
    "pyplot.plot(history.history['val_loss'], label='valid')\n",
    "pyplot.legend()\n",
    "pyplot.show()"
   ]
  },
  {
   "cell_type": "code",
   "execution_count": 18,
   "metadata": {},
   "outputs": [],
   "source": [
    "from numpy import loadtxt\n",
    "from keras.models import load_model\n",
    "# Save model\n",
    "# lenet.save(\"NADH_FLIM.h5\")\n",
    "lenet_flim = load_model('NADH_FLIM.h5')"
   ]
  },
  {
   "cell_type": "code",
   "execution_count": 19,
   "metadata": {},
   "outputs": [
    {
     "name": "stdout",
     "output_type": "stream",
     "text": [
      "= 94.474\n",
      "= 93.097\n",
      "= 95.004\n"
     ]
    }
   ],
   "source": [
    "_, acc = lenet_flim.evaluate(testImage, testLabelM, verbose=0)\n",
    "_, valid_acc = lenet_flim.evaluate(validImage, validLabelM, verbose=0)\n",
    "_, train_acc = lenet_flim.evaluate(enlargeTrainImage, enlargeTrainLabel, verbose=0)\n",
    "print('= %.3f' % (acc * 100.0))\n",
    "print('= %.3f' % (valid_acc * 100.0))\n",
    "print('= %.3f' % (train_acc * 100.0))"
   ]
  },
  {
   "cell_type": "code",
   "execution_count": 27,
   "metadata": {},
   "outputs": [],
   "source": [
    "## Define a function to calculate AUC, and confusion matrix\n",
    "def Evaluate_Prediction_Performance_CNN(testImage,model,testLabel):\n",
    "    \n",
    "    # Compute the PR-curve points\n",
    "    testPredictResult = model.predict(testImage)\n",
    "    testPredictProb = [x[1] for x in testPredictResult]\n",
    "    testReal = [np.argmax(i) for i in testLabel]\n",
    "    testPredict = [np.argmax(i) for i in testPredictResult]\n",
    "    \n",
    "    precision, recall, thresholds = metrics.precision_recall_curve(testReal,testPredictProb)\n",
    "    \n",
    "    # Compute the roc-curve points\n",
    "    fpr, tpr, roc_thresholds = metrics.roc_curve(testReal, testPredictProb)\n",
    "        \n",
    "    # Compute other metrics\n",
    "    acc = metrics.accuracy_score(testReal, testPredict)\n",
    "    auc = metrics.roc_auc_score(testReal, testPredictProb)\n",
    "    ap = metrics.average_precision_score(testReal, testPredictProb)\n",
    "    rc = metrics.recall_score(testReal, testPredict)\n",
    "    print(\"\\t=> acc={:.3f}, ap={:.3f}, auc={:.3f}, rc={:.3f}\\n\".format(acc, ap, auc, rc))\n",
    "    \n",
    "    return(precision,recall,thresholds,fpr,tpr,roc_thresholds,acc,auc,ap,ap)"
   ]
  },
  {
   "cell_type": "code",
   "execution_count": 36,
   "metadata": {},
   "outputs": [
    {
     "name": "stdout",
     "output_type": "stream",
     "text": [
      "\t=> acc=0.945, ap=0.982, auc=0.987, rc=0.915\n",
      "\n"
     ]
    }
   ],
   "source": [
    "flimLETPerf = Evaluate_Prediction_Performance_CNN(testImage,lenet_flim,testLabelM)"
   ]
  },
  {
   "cell_type": "markdown",
   "metadata": {},
   "source": [
    "#### 3.2 Compare with machine learning"
   ]
  },
  {
   "cell_type": "code",
   "execution_count": 30,
   "metadata": {},
   "outputs": [],
   "source": [
    "def Calculate_Mean_Endpoint(imageList):\n",
    "    meanEndpointList = np.empty(len(imageList))\n",
    "    for i in range(len(imageList)):\n",
    "        image = imageList[i]\n",
    "        meanEndpointList[i] = np.mean(image[np.nonzero(image)])\n",
    "    return meanEndpointList\n",
    "\n",
    "def Combine_Endpoint_Mean(intImageList, tmImageList,a1ImageList, t1ImageList, t2ImageList,label):\n",
    "    meanFeatureList = np.empty(len(intImageList), dtype=object)\n",
    "    meanIntList = Calculate_Mean_Endpoint(intImageList)\n",
    "    meanTmList = Calculate_Mean_Endpoint(tmImageList)\n",
    "    meana1List = Calculate_Mean_Endpoint(a1ImageList)\n",
    "    meanT1List = Calculate_Mean_Endpoint(t1ImageList)\n",
    "    meanT2List = Calculate_Mean_Endpoint(t2ImageList)\n",
    "    for i in range(len(intImageList)):\n",
    "        meanInt = meanIntList[i]\n",
    "        meanTm = meanTmList[i]\n",
    "        meana1 = meana1List[i]\n",
    "        meanT1 = meanT1List[i]\n",
    "        meanT2 = meanT2List[i]\n",
    "        featureVector = np.array([meanInt,meanTm,meana1,meanT1,meanT2])\n",
    "        meanFeatureList[i] = [featureVector,label]\n",
    "    return meanFeatureList"
   ]
  },
  {
   "cell_type": "code",
   "execution_count": 31,
   "metadata": {},
   "outputs": [],
   "source": [
    "controlFeatureList = Combine_Endpoint_Mean(controlIntImageList,controlTmImageList,controlA1ImageList,controlT1ImageList,controlT2ImageList,2)\n",
    "glyFeatureList = Combine_Endpoint_Mean(glyIntImageList,glyTmImageList,glyA1ImageList,glyT1ImageList,glyT2ImageList,0)\n",
    "cyanideFeatureList = Combine_Endpoint_Mean(cyanideIntImageList,cyanideTmImageList,cyanideA1ImageList,cyanideT1ImageList,cyanideT2ImageList,1)"
   ]
  },
  {
   "cell_type": "code",
   "execution_count": 32,
   "metadata": {},
   "outputs": [],
   "source": [
    "import math\n",
    "import random\n",
    "allFeatureList = np.concatenate((glyFeatureList,cyanideFeatureList), axis=0)\n",
    "\n",
    "random.shuffle(allFeatureList)\n",
    "# 60% dataset for training\n",
    "trainFeatureList = allFeatureList[:math.floor(len(allFeatureList)*0.6)]\n",
    "# 40% dataset for testing\n",
    "testFeatureList = allFeatureList[math.floor(len(allFeatureList)*0.6):]"
   ]
  },
  {
   "cell_type": "code",
   "execution_count": 33,
   "metadata": {},
   "outputs": [],
   "source": [
    "def Get_Label_Feature(featureList):\n",
    "    label = np.array([])\n",
    "    feature = np.empty(shape = (len(featureList),5))\n",
    "    for i in range(len(featureList)):\n",
    "        label = np.append(label, featureList[i][1])\n",
    "        feature[i][0] = featureList[i][0][0]\n",
    "        feature[i][1] = featureList[i][0][1]\n",
    "        feature[i][2] = featureList[i][0][2]\n",
    "        feature[i][3] = featureList[i][0][3]\n",
    "        feature[i][4] = featureList[i][0][4]\n",
    "\n",
    "    return(feature, label)"
   ]
  },
  {
   "cell_type": "code",
   "execution_count": 34,
   "metadata": {},
   "outputs": [],
   "source": [
    "from tensorflow.keras.utils import to_categorical\n",
    "\n",
    "(trainFeature, trainFeatureLabel) = Get_Label_Feature(trainFeatureList)\n",
    "(testFeature, testFeatureLabel) = Get_Label_Feature(testFeatureList)\n",
    "(allFeature, allFeatureLabel) = Get_Label_Feature(allFeatureList)"
   ]
  },
  {
   "cell_type": "code",
   "execution_count": 35,
   "metadata": {},
   "outputs": [
    {
     "name": "stdout",
     "output_type": "stream",
     "text": [
      "Accuracy: 0.868 (0.008)\n"
     ]
    }
   ],
   "source": [
    "# evaluate random forest algorithm for classification\n",
    "from numpy import mean\n",
    "from numpy import std\n",
    "from sklearn.datasets import make_classification\n",
    "from sklearn.model_selection import cross_val_score\n",
    "from sklearn.model_selection import RepeatedStratifiedKFold\n",
    "from sklearn.ensemble import RandomForestClassifier\n",
    "from sklearn import svm\n",
    "from sklearn.discriminant_analysis import LinearDiscriminantAnalysis, QuadraticDiscriminantAnalysis\n",
    "# define dataset\n",
    "model = svm.SVC(probability=True)\n",
    "# model = RandomForestClassifier()\n",
    "# model = QuadraticDiscriminantAnalysis()\n",
    "# evaluate the model\n",
    "cv = RepeatedStratifiedKFold(n_splits=5, n_repeats=3, random_state=1)\n",
    "n_scores = cross_val_score(model,allFeature, allFeatureLabel, scoring='accuracy', cv=cv, n_jobs=-1, error_score='raise')\n",
    "# report performance\n",
    "print('Accuracy: %.3f (%.3f)' % (mean(n_scores), std(n_scores)))"
   ]
  },
  {
   "cell_type": "code",
   "execution_count": 47,
   "metadata": {},
   "outputs": [],
   "source": [
    "def Evaluate_Prediction_Performance_CML(model,trainFeature,trainFeatureLabel,testFeature,testFeatureLabel):\n",
    "    model.fit(trainFeature,trainFeatureLabel)\n",
    "    \n",
    "    testPredictResult = model.predict_proba(testFeature)\n",
    "    testPredictProb = [x[1] for x in testPredictResult]\n",
    "    testPredict = [np.argmax(i) for i in testPredictResult]\n",
    "    \n",
    "    # Compute the PR-curve points\n",
    "    precision, recall, thresholds = metrics.precision_recall_curve(testFeatureLabel,testPredictProb,)\n",
    "    # Compute the roc-curve points\n",
    "    fpr, tpr, roc_thresholds = metrics.roc_curve(testFeatureLabel, testPredictProb)\n",
    "    \n",
    "    # Compute other metrics\n",
    "    acc = metrics.accuracy_score(testFeatureLabel, testPredict)\n",
    "    auc = metrics.roc_auc_score(testFeatureLabel, testPredictProb)\n",
    "    ap = metrics.average_precision_score(testFeatureLabel, testPredictProb)\n",
    "    rc = metrics.recall_score(testFeatureLabel, testPredict)\n",
    "    print(\"\\t=> acc={:.3f}, ap={:.3f}, auc={:.3f}, rc={:.3f}\\n\".format(acc, ap, auc, rc))\n",
    "    \n",
    "    return(precision,recall,thresholds,fpr,tpr,roc_thresholds,acc,auc,ap,ap)"
   ]
  },
  {
   "cell_type": "code",
   "execution_count": 49,
   "metadata": {},
   "outputs": [
    {
     "name": "stdout",
     "output_type": "stream",
     "text": [
      "\t=> acc=0.854, ap=0.868, auc=0.929, rc=0.807\n",
      "\n",
      "\t=> acc=0.886, ap=0.925, auc=0.950, rc=0.840\n",
      "\n",
      "\t=> acc=0.863, ap=0.887, auc=0.923, rc=0.855\n",
      "\n"
     ]
    }
   ],
   "source": [
    "svmPerf = Evaluate_Prediction_Performance_CML(svm.SVC(probability=True),trainFeature,trainFeatureLabel,testFeature,testFeatureLabel)\n",
    "rftPerf = Evaluate_Prediction_Performance_CML(RandomForestClassifier(),trainFeature,trainFeatureLabel,testFeature,testFeatureLabel)\n",
    "qdaPerf = Evaluate_Prediction_Performance_CML(QuadraticDiscriminantAnalysis(),trainFeature,trainFeatureLabel,testFeature,testFeatureLabel)"
   ]
  },
  {
   "cell_type": "markdown",
   "metadata": {},
   "source": [
    "### 4. Analyze the performance"
   ]
  },
  {
   "cell_type": "markdown",
   "metadata": {},
   "source": [
    "#### Display the wrong images and labels"
   ]
  },
  {
   "cell_type": "code",
   "execution_count": null,
   "metadata": {},
   "outputs": [],
   "source": [
    "wrongNumbers = [i for i in range(len(testPredict)) if testPredict[i] != testReal[i]]\n",
    "def Get_Wrong_Images(wrongNumbers, testImage, testLabel):\n",
    "    imageNumber = len(wrongNumbers)\n",
    "    wrongImage = np.empty([imageNumber,56,56])\n",
    "    wrongLabel = np.empty([imageNumber,2])\n",
    "    for i in range(imageNumber):\n",
    "        wrongImage[i] = testImage[wrongNumbers[i],:,:,1]\n",
    "        wrongLabel[i] = testLabel[wrongNumbers[i]]\n",
    "    return wrongImage, wrongLabel"
   ]
  },
  {
   "cell_type": "code",
   "execution_count": null,
   "metadata": {},
   "outputs": [],
   "source": [
    "(wrongImage,wrongLabel) = Get_Wrong_Images(wrongNumbers,testImage,testLabel)"
   ]
  },
  {
   "cell_type": "code",
   "execution_count": null,
   "metadata": {},
   "outputs": [],
   "source": [
    "def Montage_Image(imageList,n_col, image_size=56, margin=2):\n",
    "    \"\"\"\n",
    "    Plot all the images listed in `img_names` in a gird with `n_col` columns.\n",
    "    Images will be resized to `image_size`*`image_size`.\n",
    "    This function assumes input images have the same shape.\n",
    "    \n",
    "    Args:\n",
    "        img_names([string]): list of image paths\n",
    "        n_col(int): number of images in one row\n",
    "        image_size(int): the length of each image on the montage view\n",
    "        margin(int): the horizonal and vertical gap between image image\n",
    "        \n",
    "    Returns:\n",
    "        np.array: The montage view of all images listed in `img_names`\n",
    "    \"\"\"\n",
    "    img_list = []\n",
    "    for image in imageList:\n",
    "        img_list.append(image)\n",
    "    stack = np.hstack(img_list)\n",
    "\n",
    "    # Compute number of rows\n",
    "    n_row = math.ceil(len(imageList) / n_col)\n",
    "    image = np.ones((n_row * image_size + (n_row - 1) * margin,\n",
    "                     n_col * image_size + (n_col - 1) * margin)) * 255\n",
    "\n",
    "    for i in range(int(stack.shape[1] / image_size)):\n",
    "        r, c = i // n_col, i % n_col\n",
    "        image[image_size * r + r * margin : image_size * (r + 1) + r * margin,\n",
    "              image_size * c + c * margin : image_size * (c + 1) + c * margin\n",
    "             ] = stack[:, image_size * i : image_size * (i + 1)]\n",
    "        \n",
    "    return image"
   ]
  },
  {
   "cell_type": "code",
   "execution_count": null,
   "metadata": {
    "scrolled": true
   },
   "outputs": [],
   "source": [
    "### Control Montage Image\n",
    "montageWrongImage = Montage_Image(wrongImage, 8, image_size=56, margin=3)\n",
    "plt.figure(figsize=(20, round(montageWrongImage.shape[1] / montageWrongImage.shape[0] * 20)))\n",
    "plt.imshow(montageWrongImage, cmap='viridis',vmax =1)\n",
    "plt.axis('off')\n",
    "plt.title('Wrong Prediction Group',fontsize = 20)\n",
    "plt.colorbar(shrink = 0.3)\n",
    "plt.show()"
   ]
  },
  {
   "cell_type": "markdown",
   "metadata": {},
   "source": [
    "### 5. CHOOSE INPUT ENDPOINTS"
   ]
  },
  {
   "cell_type": "code",
   "execution_count": 59,
   "metadata": {},
   "outputs": [],
   "source": [
    "def Selet_Input_Endpoint(image):\n",
    "    # NADH Intensity\n",
    "#     newImage = image[:,:,:,0]\n",
    "    # NADH tm\n",
    "#     newImage = image[:,:,:,1]\n",
    "#     # NADH tm + Intensity\n",
    "    newImage = image[:,:,:,[0,1]]\n",
    "    return newImage"
   ]
  },
  {
   "cell_type": "code",
   "execution_count": 60,
   "metadata": {},
   "outputs": [
    {
     "name": "stdout",
     "output_type": "stream",
     "text": [
      "(24320, 40, 40, 2)\n",
      "(507, 40, 40, 2)\n",
      "(1520, 40, 40, 2)\n"
     ]
    }
   ],
   "source": [
    "newEnlargeTrainImage = Selet_Input_Endpoint(enlargeTrainImage)\n",
    "newValidImage = Selet_Input_Endpoint(validImage)\n",
    "newTestImage = Selet_Input_Endpoint(testImage)\n",
    "print(newEnlargeTrainImage.shape)\n",
    "print(newValidImage.shape)\n",
    "print(newTestImage.shape)"
   ]
  },
  {
   "cell_type": "code",
   "execution_count": 57,
   "metadata": {},
   "outputs": [
    {
     "name": "stdout",
     "output_type": "stream",
     "text": [
      "(24320, 40, 40, 1)\n",
      "(507, 40, 40, 1)\n",
      "(1520, 40, 40, 1)\n"
     ]
    }
   ],
   "source": [
    "newEnlargeTrainImage = np.reshape(newEnlargeTrainImage, (24320, 40, 40, 1))\n",
    "newValidImage = np.reshape(newValidImage, (507, 40, 40, 1))\n",
    "newTestImage = np.reshape(newTestImage, (1520, 40, 40, 1))\n",
    "print(newEnlargeTrainImage.shape)\n",
    "print(newValidImage.shape)\n",
    "print(newTestImage.shape)"
   ]
  },
  {
   "cell_type": "markdown",
   "metadata": {},
   "source": [
    "#### 5.1 NADH intensity/tm model"
   ]
  },
  {
   "cell_type": "code",
   "execution_count": 66,
   "metadata": {},
   "outputs": [],
   "source": [
    "def Develop_Model():\n",
    "    model = Sequential()\n",
    "    model.add(Conv2D(filters = 64, \n",
    "                     kernel_size = (3, 3), \n",
    "                     padding=\"valid\",\n",
    "                     activation='sigmoid', \n",
    "                     input_shape=(40, 40, 1)))\n",
    "    model.add(MaxPooling2D(pool_size=(3, 3), strides = 3))\n",
    "    model.add(BatchNormalization())\n",
    "    \n",
    "    \n",
    "    model.add(Conv2D(filters = 64,\n",
    "                     kernel_size=(3,3),\n",
    "                     padding=\"valid\",\n",
    "                     activation=\"sigmoid\"))    \n",
    "    model.add(MaxPooling2D(pool_size = 3, strides = 3))\n",
    "    model.add(BatchNormalization())\n",
    "\n",
    "#    map to 1x1 (flatten layer)\n",
    "    model.add(Flatten())\n",
    "    \n",
    "    model.add(Dense(120, activation=\"tanh\"))\n",
    "    model.add(Dropout(0.2))\n",
    "    model.add(Dense(80, activation=\"tanh\"))\n",
    "    model.add(Dropout(0.2))\n",
    "    model.add(Dense(2, activation=\"softmax\", name=\"Output\"))\n",
    "\n",
    "    \n",
    "    # compile model\n",
    "    opt = SGD(lr=0.00001, momentum=0.9)\n",
    "    model.compile(optimizer=opt, loss='binary_crossentropy', metrics=['accuracy'])\n",
    "    \n",
    "    return model"
   ]
  },
  {
   "cell_type": "code",
   "execution_count": null,
   "metadata": {},
   "outputs": [],
   "source": [
    "# NADH Intensity\n",
    "lenet_Int = Develop_Model()\n",
    "es = EarlyStopping(monitor='val_loss', mode='min', verbose=1,patience = 50)\n",
    "history = lenet_Int.fit(newEnlargeTrainImage, enlargeTrainLabel, epochs = 100, batch_size = 16,validation_data=(newValidImage, validLabelM), verbose = 1,callbacks=[es])"
   ]
  },
  {
   "cell_type": "code",
   "execution_count": null,
   "metadata": {},
   "outputs": [],
   "source": [
    "# NADH tm\n",
    "lenet_tm = Develop_Model()\n",
    "es = EarlyStopping(monitor='val_loss', mode='min', verbose=1,patience = 50)\n",
    "history = lenet_tm.fit(newEnlargeTrainImage, enlargeTrainLabel, epochs = 100, batch_size = 16,validation_data=(newValidImage, validLabelM), verbose = 1,callbacks=[es])"
   ]
  },
  {
   "cell_type": "markdown",
   "metadata": {},
   "source": [
    "#### 5.2 NADH intensity + tm model"
   ]
  },
  {
   "cell_type": "code",
   "execution_count": 77,
   "metadata": {},
   "outputs": [],
   "source": [
    "def Develop_Model():\n",
    "    model = Sequential()\n",
    "    model.add(Conv2D(filters = 64, \n",
    "                     kernel_size = (3, 3), \n",
    "                     padding=\"valid\",\n",
    "                     activation='sigmoid', \n",
    "                     input_shape=(40, 40, 2)))\n",
    "    model.add(MaxPooling2D(pool_size=(3, 3), strides = 3))\n",
    "    model.add(BatchNormalization())\n",
    "    \n",
    "    \n",
    "    model.add(Conv2D(filters = 64,\n",
    "                     kernel_size=(3,3),\n",
    "                     padding=\"valid\",\n",
    "                     activation=\"sigmoid\"))    \n",
    "    model.add(MaxPooling2D(pool_size = 3, strides = 3))\n",
    "    model.add(BatchNormalization())\n",
    "\n",
    "#    map to 1x1 (flatten layer)\n",
    "    model.add(Flatten())\n",
    "    \n",
    "    model.add(Dense(120, activation=\"tanh\"))\n",
    "    model.add(Dropout(0.2))\n",
    "    model.add(Dense(80, activation=\"tanh\"))\n",
    "    model.add(Dropout(0.2))\n",
    "    model.add(Dense(2, activation=\"softmax\", name=\"Output\"))\n",
    "\n",
    "    \n",
    "    # compile model\n",
    "    opt = SGD(lr=0.00001, momentum=0.9)\n",
    "    model.compile(optimizer=opt, loss='binary_crossentropy', metrics=['accuracy'])\n",
    "    \n",
    "    return model"
   ]
  },
  {
   "cell_type": "code",
   "execution_count": 79,
   "metadata": {},
   "outputs": [
    {
     "name": "stdout",
     "output_type": "stream",
     "text": [
      "Epoch 1/150\n",
      "1520/1520 [==============================] - 7s 4ms/step - loss: 0.7609 - accuracy: 0.5285 - val_loss: 0.6261 - val_accuracy: 0.6805\n",
      "Epoch 2/150\n",
      "1520/1520 [==============================] - 7s 4ms/step - loss: 0.6429 - accuracy: 0.6630 - val_loss: 0.5723 - val_accuracy: 0.7258\n",
      "Epoch 3/150\n",
      "1520/1520 [==============================] - 7s 4ms/step - loss: 0.5948 - accuracy: 0.7065 - val_loss: 0.5418 - val_accuracy: 0.7298\n",
      "Epoch 4/150\n",
      "1520/1520 [==============================] - 6s 4ms/step - loss: 0.5698 - accuracy: 0.7233 - val_loss: 0.5209 - val_accuracy: 0.7475\n",
      "Epoch 5/150\n",
      "1520/1520 [==============================] - 6s 4ms/step - loss: 0.5442 - accuracy: 0.7468 - val_loss: 0.5035 - val_accuracy: 0.7633\n",
      "Epoch 6/150\n",
      "1520/1520 [==============================] - 6s 4ms/step - loss: 0.5307 - accuracy: 0.7509 - val_loss: 0.4883 - val_accuracy: 0.7751\n",
      "Epoch 7/150\n",
      "1520/1520 [==============================] - 6s 4ms/step - loss: 0.5215 - accuracy: 0.7648 - val_loss: 0.4772 - val_accuracy: 0.7811\n",
      "Epoch 8/150\n",
      "1520/1520 [==============================] - 6s 4ms/step - loss: 0.5061 - accuracy: 0.7683 - val_loss: 0.4658 - val_accuracy: 0.7949\n",
      "Epoch 9/150\n",
      "1520/1520 [==============================] - 6s 4ms/step - loss: 0.5006 - accuracy: 0.7729 - val_loss: 0.4573 - val_accuracy: 0.8028\n",
      "Epoch 10/150\n",
      "1520/1520 [==============================] - 6s 4ms/step - loss: 0.4917 - accuracy: 0.7760 - val_loss: 0.4499 - val_accuracy: 0.8087\n",
      "Epoch 11/150\n",
      "1520/1520 [==============================] - 6s 4ms/step - loss: 0.4851 - accuracy: 0.7804 - val_loss: 0.4399 - val_accuracy: 0.8185\n",
      "Epoch 12/150\n",
      "1520/1520 [==============================] - 6s 4ms/step - loss: 0.4747 - accuracy: 0.7861 - val_loss: 0.4338 - val_accuracy: 0.8205\n",
      "Epoch 13/150\n",
      "1520/1520 [==============================] - 6s 4ms/step - loss: 0.4669 - accuracy: 0.7991 - val_loss: 0.4252 - val_accuracy: 0.8264\n",
      "Epoch 14/150\n",
      "1520/1520 [==============================] - 6s 4ms/step - loss: 0.4651 - accuracy: 0.7970 - val_loss: 0.4204 - val_accuracy: 0.8264\n",
      "Epoch 15/150\n",
      "1520/1520 [==============================] - 6s 4ms/step - loss: 0.4601 - accuracy: 0.7965 - val_loss: 0.4145 - val_accuracy: 0.8264\n",
      "Epoch 16/150\n",
      "1520/1520 [==============================] - 6s 4ms/step - loss: 0.4611 - accuracy: 0.8008 - val_loss: 0.4103 - val_accuracy: 0.8245\n",
      "Epoch 17/150\n",
      "1520/1520 [==============================] - 6s 4ms/step - loss: 0.4418 - accuracy: 0.8064 - val_loss: 0.4053 - val_accuracy: 0.8284\n",
      "Epoch 18/150\n",
      "1520/1520 [==============================] - 6s 4ms/step - loss: 0.4538 - accuracy: 0.8014 - val_loss: 0.4003 - val_accuracy: 0.8323\n",
      "Epoch 19/150\n",
      "1520/1520 [==============================] - 6s 4ms/step - loss: 0.4375 - accuracy: 0.8121 - val_loss: 0.3980 - val_accuracy: 0.8284\n",
      "Epoch 20/150\n",
      "1520/1520 [==============================] - 7s 4ms/step - loss: 0.4355 - accuracy: 0.8113 - val_loss: 0.3943 - val_accuracy: 0.8304\n",
      "Epoch 21/150\n",
      "1520/1520 [==============================] - 6s 4ms/step - loss: 0.4276 - accuracy: 0.8129 - val_loss: 0.3940 - val_accuracy: 0.8442\n",
      "Epoch 22/150\n",
      "1520/1520 [==============================] - 6s 4ms/step - loss: 0.4265 - accuracy: 0.8150 - val_loss: 0.3873 - val_accuracy: 0.8343\n",
      "Epoch 23/150\n",
      "1520/1520 [==============================] - 7s 5ms/step - loss: 0.4212 - accuracy: 0.8182 - val_loss: 0.3815 - val_accuracy: 0.8422\n",
      "Epoch 24/150\n",
      "1520/1520 [==============================] - 6s 4ms/step - loss: 0.4113 - accuracy: 0.8245 - val_loss: 0.3787 - val_accuracy: 0.8442\n",
      "Epoch 25/150\n",
      "1520/1520 [==============================] - 6s 4ms/step - loss: 0.4078 - accuracy: 0.8254 - val_loss: 0.3801 - val_accuracy: 0.8402\n",
      "Epoch 26/150\n",
      "1520/1520 [==============================] - 6s 4ms/step - loss: 0.4076 - accuracy: 0.8281 - val_loss: 0.3758 - val_accuracy: 0.8442\n",
      "Epoch 27/150\n",
      "1520/1520 [==============================] - 6s 4ms/step - loss: 0.3984 - accuracy: 0.8337 - val_loss: 0.3697 - val_accuracy: 0.8521\n",
      "Epoch 28/150\n",
      "1520/1520 [==============================] - 6s 4ms/step - loss: 0.3984 - accuracy: 0.8302 - val_loss: 0.3676 - val_accuracy: 0.8501\n",
      "Epoch 29/150\n",
      "1520/1520 [==============================] - 6s 4ms/step - loss: 0.4019 - accuracy: 0.8282 - val_loss: 0.3640 - val_accuracy: 0.8560\n",
      "Epoch 30/150\n",
      "1520/1520 [==============================] - 6s 4ms/step - loss: 0.3858 - accuracy: 0.8361 - val_loss: 0.3612 - val_accuracy: 0.8580\n",
      "Epoch 31/150\n",
      "1520/1520 [==============================] - 6s 4ms/step - loss: 0.3914 - accuracy: 0.8358 - val_loss: 0.3589 - val_accuracy: 0.8580\n",
      "Epoch 32/150\n",
      "1520/1520 [==============================] - 6s 4ms/step - loss: 0.3895 - accuracy: 0.8347 - val_loss: 0.3558 - val_accuracy: 0.8600\n",
      "Epoch 33/150\n",
      "1520/1520 [==============================] - 6s 4ms/step - loss: 0.3822 - accuracy: 0.8413 - val_loss: 0.3580 - val_accuracy: 0.8501\n",
      "Epoch 34/150\n",
      "1520/1520 [==============================] - 6s 4ms/step - loss: 0.3772 - accuracy: 0.8419 - val_loss: 0.3504 - val_accuracy: 0.8619\n",
      "Epoch 35/150\n",
      "1520/1520 [==============================] - 6s 4ms/step - loss: 0.3667 - accuracy: 0.8471 - val_loss: 0.3475 - val_accuracy: 0.8619\n",
      "Epoch 36/150\n",
      "1520/1520 [==============================] - 6s 4ms/step - loss: 0.3678 - accuracy: 0.8483 - val_loss: 0.3478 - val_accuracy: 0.8600\n",
      "Epoch 37/150\n",
      "1520/1520 [==============================] - 6s 4ms/step - loss: 0.3610 - accuracy: 0.8483 - val_loss: 0.3422 - val_accuracy: 0.8639\n",
      "Epoch 38/150\n",
      "1520/1520 [==============================] - 6s 4ms/step - loss: 0.3587 - accuracy: 0.8501 - val_loss: 0.3394 - val_accuracy: 0.8619\n",
      "Epoch 39/150\n",
      "1520/1520 [==============================] - 6s 4ms/step - loss: 0.3572 - accuracy: 0.8510 - val_loss: 0.3370 - val_accuracy: 0.8679\n",
      "Epoch 40/150\n",
      "1520/1520 [==============================] - 6s 4ms/step - loss: 0.3522 - accuracy: 0.8547 - val_loss: 0.3375 - val_accuracy: 0.8659\n",
      "Epoch 41/150\n",
      "1520/1520 [==============================] - 6s 4ms/step - loss: 0.3541 - accuracy: 0.8567 - val_loss: 0.3317 - val_accuracy: 0.8718\n",
      "Epoch 42/150\n",
      "1520/1520 [==============================] - 7s 4ms/step - loss: 0.3465 - accuracy: 0.8574 - val_loss: 0.3330 - val_accuracy: 0.8659\n",
      "Epoch 43/150\n",
      "1520/1520 [==============================] - 6s 4ms/step - loss: 0.3453 - accuracy: 0.8571 - val_loss: 0.3274 - val_accuracy: 0.8738\n",
      "Epoch 44/150\n",
      "1520/1520 [==============================] - 6s 4ms/step - loss: 0.3374 - accuracy: 0.8616 - val_loss: 0.3247 - val_accuracy: 0.8757\n",
      "Epoch 45/150\n",
      "1520/1520 [==============================] - 6s 4ms/step - loss: 0.3407 - accuracy: 0.8607 - val_loss: 0.3224 - val_accuracy: 0.8718\n",
      "Epoch 46/150\n",
      "1520/1520 [==============================] - 6s 4ms/step - loss: 0.3365 - accuracy: 0.8587 - val_loss: 0.3299 - val_accuracy: 0.8659\n",
      "Epoch 47/150\n",
      "1520/1520 [==============================] - 6s 4ms/step - loss: 0.3317 - accuracy: 0.8615 - val_loss: 0.3235 - val_accuracy: 0.8698\n",
      "Epoch 48/150\n",
      "1520/1520 [==============================] - 6s 4ms/step - loss: 0.3342 - accuracy: 0.8646 - val_loss: 0.3202 - val_accuracy: 0.8757\n",
      "Epoch 49/150\n",
      "1520/1520 [==============================] - 6s 4ms/step - loss: 0.3312 - accuracy: 0.8642 - val_loss: 0.3158 - val_accuracy: 0.8836\n",
      "Epoch 50/150\n",
      "1520/1520 [==============================] - 6s 4ms/step - loss: 0.3234 - accuracy: 0.8673 - val_loss: 0.3140 - val_accuracy: 0.8876\n",
      "Epoch 51/150\n",
      "1520/1520 [==============================] - 6s 4ms/step - loss: 0.3263 - accuracy: 0.8659 - val_loss: 0.3145 - val_accuracy: 0.8797\n",
      "Epoch 52/150\n",
      "1520/1520 [==============================] - 6s 4ms/step - loss: 0.3227 - accuracy: 0.8699 - val_loss: 0.3160 - val_accuracy: 0.8679\n",
      "Epoch 53/150\n",
      "1520/1520 [==============================] - 6s 4ms/step - loss: 0.3148 - accuracy: 0.8726 - val_loss: 0.3242 - val_accuracy: 0.8540\n",
      "Epoch 54/150\n",
      "1520/1520 [==============================] - 6s 4ms/step - loss: 0.3212 - accuracy: 0.8666 - val_loss: 0.3079 - val_accuracy: 0.8738\n",
      "Epoch 55/150\n",
      "1520/1520 [==============================] - 6s 4ms/step - loss: 0.3102 - accuracy: 0.8751 - val_loss: 0.3197 - val_accuracy: 0.8817\n",
      "Epoch 56/150\n",
      "1520/1520 [==============================] - 6s 4ms/step - loss: 0.3115 - accuracy: 0.8729 - val_loss: 0.3099 - val_accuracy: 0.8856\n",
      "Epoch 57/150\n",
      "1520/1520 [==============================] - 6s 4ms/step - loss: 0.3157 - accuracy: 0.8710 - val_loss: 0.3053 - val_accuracy: 0.8797\n",
      "Epoch 58/150\n",
      "1520/1520 [==============================] - 6s 4ms/step - loss: 0.3165 - accuracy: 0.8708 - val_loss: 0.3138 - val_accuracy: 0.8580\n",
      "Epoch 59/150\n",
      "1520/1520 [==============================] - 6s 4ms/step - loss: 0.3044 - accuracy: 0.8776 - val_loss: 0.3018 - val_accuracy: 0.8757\n",
      "Epoch 60/150\n",
      "1520/1520 [==============================] - 6s 4ms/step - loss: 0.3049 - accuracy: 0.8742 - val_loss: 0.3017 - val_accuracy: 0.8836\n",
      "Epoch 61/150\n",
      "1520/1520 [==============================] - 6s 4ms/step - loss: 0.3021 - accuracy: 0.8754 - val_loss: 0.3221 - val_accuracy: 0.8560\n",
      "Epoch 62/150\n",
      "1520/1520 [==============================] - 6s 4ms/step - loss: 0.3019 - accuracy: 0.8751 - val_loss: 0.2986 - val_accuracy: 0.8718\n",
      "Epoch 63/150\n",
      "1520/1520 [==============================] - 6s 4ms/step - loss: 0.3019 - accuracy: 0.8750 - val_loss: 0.2987 - val_accuracy: 0.8718\n",
      "Epoch 64/150\n",
      "1520/1520 [==============================] - 6s 4ms/step - loss: 0.3024 - accuracy: 0.8758 - val_loss: 0.2980 - val_accuracy: 0.8797\n",
      "Epoch 65/150\n",
      "1520/1520 [==============================] - 6s 4ms/step - loss: 0.2963 - accuracy: 0.8787 - val_loss: 0.2954 - val_accuracy: 0.8757\n",
      "Epoch 66/150\n",
      "1520/1520 [==============================] - 6s 4ms/step - loss: 0.2919 - accuracy: 0.8837 - val_loss: 0.2965 - val_accuracy: 0.8836\n",
      "Epoch 67/150\n",
      "1520/1520 [==============================] - 6s 4ms/step - loss: 0.3036 - accuracy: 0.8733 - val_loss: 0.2929 - val_accuracy: 0.8738\n",
      "Epoch 68/150\n",
      "1520/1520 [==============================] - 6s 4ms/step - loss: 0.2974 - accuracy: 0.8802 - val_loss: 0.2945 - val_accuracy: 0.8876\n",
      "Epoch 69/150\n",
      "1520/1520 [==============================] - 6s 4ms/step - loss: 0.2923 - accuracy: 0.8842 - val_loss: 0.2922 - val_accuracy: 0.8876\n",
      "Epoch 70/150\n",
      "1520/1520 [==============================] - 6s 4ms/step - loss: 0.2920 - accuracy: 0.8807 - val_loss: 0.2998 - val_accuracy: 0.8619\n",
      "Epoch 71/150\n",
      "1520/1520 [==============================] - 6s 4ms/step - loss: 0.2902 - accuracy: 0.8835 - val_loss: 0.3142 - val_accuracy: 0.8619\n",
      "Epoch 72/150\n",
      "1520/1520 [==============================] - 6s 4ms/step - loss: 0.2878 - accuracy: 0.8849 - val_loss: 0.2901 - val_accuracy: 0.8698\n",
      "Epoch 73/150\n",
      "1520/1520 [==============================] - 6s 4ms/step - loss: 0.2849 - accuracy: 0.8841 - val_loss: 0.2999 - val_accuracy: 0.8915\n",
      "Epoch 74/150\n",
      "1520/1520 [==============================] - 6s 4ms/step - loss: 0.2927 - accuracy: 0.8795 - val_loss: 0.2926 - val_accuracy: 0.8679\n",
      "Epoch 75/150\n",
      "1520/1520 [==============================] - 6s 4ms/step - loss: 0.2882 - accuracy: 0.8849 - val_loss: 0.2949 - val_accuracy: 0.8639\n",
      "Epoch 76/150\n",
      "1520/1520 [==============================] - 6s 4ms/step - loss: 0.2868 - accuracy: 0.8830 - val_loss: 0.2890 - val_accuracy: 0.8777\n",
      "Epoch 77/150\n",
      "1520/1520 [==============================] - 6s 4ms/step - loss: 0.2844 - accuracy: 0.8845 - val_loss: 0.2986 - val_accuracy: 0.8876\n",
      "Epoch 78/150\n",
      "1520/1520 [==============================] - 6s 4ms/step - loss: 0.2852 - accuracy: 0.8855 - val_loss: 0.2955 - val_accuracy: 0.8679\n",
      "Epoch 79/150\n",
      "1520/1520 [==============================] - 6s 4ms/step - loss: 0.2871 - accuracy: 0.8816 - val_loss: 0.2876 - val_accuracy: 0.8679\n",
      "Epoch 80/150\n",
      "1520/1520 [==============================] - 6s 4ms/step - loss: 0.2770 - accuracy: 0.8880 - val_loss: 0.2884 - val_accuracy: 0.8915\n",
      "Epoch 81/150\n",
      "1520/1520 [==============================] - 6s 4ms/step - loss: 0.2828 - accuracy: 0.8860 - val_loss: 0.2823 - val_accuracy: 0.8679\n",
      "Epoch 82/150\n",
      "1520/1520 [==============================] - 6s 4ms/step - loss: 0.2845 - accuracy: 0.8845 - val_loss: 0.2834 - val_accuracy: 0.8738\n",
      "Epoch 83/150\n",
      "1520/1520 [==============================] - 6s 4ms/step - loss: 0.2787 - accuracy: 0.8902 - val_loss: 0.2858 - val_accuracy: 0.8698\n",
      "Epoch 84/150\n",
      "1520/1520 [==============================] - 6s 4ms/step - loss: 0.2730 - accuracy: 0.8878 - val_loss: 0.2829 - val_accuracy: 0.8757\n",
      "Epoch 85/150\n",
      "1520/1520 [==============================] - 6s 4ms/step - loss: 0.2813 - accuracy: 0.8851 - val_loss: 0.2856 - val_accuracy: 0.8915\n",
      "Epoch 86/150\n",
      "1520/1520 [==============================] - 6s 4ms/step - loss: 0.2726 - accuracy: 0.8894 - val_loss: 0.2828 - val_accuracy: 0.8797\n",
      "Epoch 87/150\n",
      "1520/1520 [==============================] - 6s 4ms/step - loss: 0.2857 - accuracy: 0.8832 - val_loss: 0.2898 - val_accuracy: 0.8679\n",
      "Epoch 88/150\n",
      "1520/1520 [==============================] - 6s 4ms/step - loss: 0.2776 - accuracy: 0.8869 - val_loss: 0.3037 - val_accuracy: 0.8738\n",
      "Epoch 89/150\n",
      "1520/1520 [==============================] - 6s 4ms/step - loss: 0.2802 - accuracy: 0.8891 - val_loss: 0.2857 - val_accuracy: 0.8955\n",
      "Epoch 90/150\n",
      "1520/1520 [==============================] - 6s 4ms/step - loss: 0.2788 - accuracy: 0.8874 - val_loss: 0.2914 - val_accuracy: 0.8659\n",
      "Epoch 91/150\n",
      "1520/1520 [==============================] - 6s 4ms/step - loss: 0.2725 - accuracy: 0.8904 - val_loss: 0.2808 - val_accuracy: 0.8757\n",
      "Epoch 92/150\n",
      "1520/1520 [==============================] - 6s 4ms/step - loss: 0.2743 - accuracy: 0.8887 - val_loss: 0.3080 - val_accuracy: 0.8619\n",
      "Epoch 93/150\n",
      "1520/1520 [==============================] - 6s 4ms/step - loss: 0.2738 - accuracy: 0.8910 - val_loss: 0.3041 - val_accuracy: 0.8797\n",
      "Epoch 94/150\n",
      "1520/1520 [==============================] - 6s 4ms/step - loss: 0.2731 - accuracy: 0.8897 - val_loss: 0.3141 - val_accuracy: 0.8619\n",
      "Epoch 95/150\n",
      "1520/1520 [==============================] - 6s 4ms/step - loss: 0.2699 - accuracy: 0.8904 - val_loss: 0.2821 - val_accuracy: 0.8679\n",
      "Epoch 96/150\n",
      "1520/1520 [==============================] - 6s 4ms/step - loss: 0.2720 - accuracy: 0.8895 - val_loss: 0.2784 - val_accuracy: 0.8738\n",
      "Epoch 97/150\n",
      "1520/1520 [==============================] - 6s 4ms/step - loss: 0.2696 - accuracy: 0.8884 - val_loss: 0.2786 - val_accuracy: 0.8836\n",
      "Epoch 98/150\n",
      "1520/1520 [==============================] - 6s 4ms/step - loss: 0.2689 - accuracy: 0.8896 - val_loss: 0.2800 - val_accuracy: 0.8757\n",
      "Epoch 99/150\n",
      "1520/1520 [==============================] - 6s 4ms/step - loss: 0.2680 - accuracy: 0.8910 - val_loss: 0.2786 - val_accuracy: 0.8757\n",
      "Epoch 100/150\n",
      "1520/1520 [==============================] - 6s 4ms/step - loss: 0.2664 - accuracy: 0.8925 - val_loss: 0.2800 - val_accuracy: 0.8757\n",
      "Epoch 101/150\n",
      "1520/1520 [==============================] - 6s 4ms/step - loss: 0.2673 - accuracy: 0.8919 - val_loss: 0.2809 - val_accuracy: 0.8738\n",
      "Epoch 102/150\n",
      "1520/1520 [==============================] - 6s 4ms/step - loss: 0.2636 - accuracy: 0.8940 - val_loss: 0.2785 - val_accuracy: 0.8757\n",
      "Epoch 103/150\n",
      "1520/1520 [==============================] - 6s 4ms/step - loss: 0.2662 - accuracy: 0.8907 - val_loss: 0.2897 - val_accuracy: 0.8659\n",
      "Epoch 104/150\n",
      "1520/1520 [==============================] - 6s 4ms/step - loss: 0.2630 - accuracy: 0.8934 - val_loss: 0.2898 - val_accuracy: 0.8659\n",
      "Epoch 105/150\n",
      "1520/1520 [==============================] - 6s 4ms/step - loss: 0.2699 - accuracy: 0.8924 - val_loss: 0.2793 - val_accuracy: 0.8757\n",
      "Epoch 106/150\n",
      "1520/1520 [==============================] - 6s 4ms/step - loss: 0.2648 - accuracy: 0.8915 - val_loss: 0.3032 - val_accuracy: 0.8639\n",
      "Epoch 107/150\n",
      "1520/1520 [==============================] - 6s 4ms/step - loss: 0.2666 - accuracy: 0.8933 - val_loss: 0.2776 - val_accuracy: 0.8817\n",
      "Epoch 108/150\n",
      "1520/1520 [==============================] - 6s 4ms/step - loss: 0.2672 - accuracy: 0.8903 - val_loss: 0.2938 - val_accuracy: 0.8895\n",
      "Epoch 109/150\n",
      "1520/1520 [==============================] - 6s 4ms/step - loss: 0.2649 - accuracy: 0.8942 - val_loss: 0.2921 - val_accuracy: 0.8639\n",
      "Epoch 110/150\n",
      "1520/1520 [==============================] - 6s 4ms/step - loss: 0.2633 - accuracy: 0.8950 - val_loss: 0.2801 - val_accuracy: 0.8895\n",
      "Epoch 111/150\n",
      "1520/1520 [==============================] - 6s 4ms/step - loss: 0.2541 - accuracy: 0.8975 - val_loss: 0.2789 - val_accuracy: 0.8895\n",
      "Epoch 112/150\n",
      "1520/1520 [==============================] - 6s 4ms/step - loss: 0.2632 - accuracy: 0.8936 - val_loss: 0.2826 - val_accuracy: 0.8718\n",
      "Epoch 113/150\n"
     ]
    },
    {
     "name": "stdout",
     "output_type": "stream",
     "text": [
      "1520/1520 [==============================] - 6s 4ms/step - loss: 0.2633 - accuracy: 0.8906 - val_loss: 0.2790 - val_accuracy: 0.8836\n",
      "Epoch 114/150\n",
      "1520/1520 [==============================] - 6s 4ms/step - loss: 0.2565 - accuracy: 0.8996 - val_loss: 0.2832 - val_accuracy: 0.8757\n",
      "Epoch 115/150\n",
      "1520/1520 [==============================] - 6s 4ms/step - loss: 0.2569 - accuracy: 0.8998 - val_loss: 0.2780 - val_accuracy: 0.8817\n",
      "Epoch 116/150\n",
      "1520/1520 [==============================] - 6s 4ms/step - loss: 0.2594 - accuracy: 0.8954 - val_loss: 0.2794 - val_accuracy: 0.8876\n",
      "Epoch 117/150\n",
      "1520/1520 [==============================] - 6s 4ms/step - loss: 0.2624 - accuracy: 0.8966 - val_loss: 0.2833 - val_accuracy: 0.8895\n",
      "Epoch 118/150\n",
      "1520/1520 [==============================] - 6s 4ms/step - loss: 0.2606 - accuracy: 0.8939 - val_loss: 0.2923 - val_accuracy: 0.8836\n",
      "Epoch 119/150\n",
      "1520/1520 [==============================] - 6s 4ms/step - loss: 0.2605 - accuracy: 0.8936 - val_loss: 0.2901 - val_accuracy: 0.8955\n",
      "Epoch 120/150\n",
      "1520/1520 [==============================] - 6s 4ms/step - loss: 0.2555 - accuracy: 0.8987 - val_loss: 0.2848 - val_accuracy: 0.8738\n",
      "Epoch 121/150\n",
      "1520/1520 [==============================] - 6s 4ms/step - loss: 0.2579 - accuracy: 0.8970 - val_loss: 0.2850 - val_accuracy: 0.8698\n",
      "Epoch 122/150\n",
      "1520/1520 [==============================] - 6s 4ms/step - loss: 0.2524 - accuracy: 0.8971 - val_loss: 0.2760 - val_accuracy: 0.8836\n",
      "Epoch 123/150\n",
      "1520/1520 [==============================] - 6s 4ms/step - loss: 0.2494 - accuracy: 0.9015 - val_loss: 0.2801 - val_accuracy: 0.8895\n",
      "Epoch 124/150\n",
      "1520/1520 [==============================] - 6s 4ms/step - loss: 0.2515 - accuracy: 0.8988 - val_loss: 0.2773 - val_accuracy: 0.8817\n",
      "Epoch 125/150\n",
      "1520/1520 [==============================] - 6s 4ms/step - loss: 0.2504 - accuracy: 0.8992 - val_loss: 0.2865 - val_accuracy: 0.8698\n",
      "Epoch 126/150\n",
      "1520/1520 [==============================] - 6s 4ms/step - loss: 0.2452 - accuracy: 0.9028 - val_loss: 0.3200 - val_accuracy: 0.8817\n",
      "Epoch 127/150\n",
      "1520/1520 [==============================] - 6s 4ms/step - loss: 0.2606 - accuracy: 0.8931 - val_loss: 0.2783 - val_accuracy: 0.8817\n",
      "Epoch 128/150\n",
      "1520/1520 [==============================] - 6s 4ms/step - loss: 0.2508 - accuracy: 0.8983 - val_loss: 0.2854 - val_accuracy: 0.8738\n",
      "Epoch 129/150\n",
      "1520/1520 [==============================] - 6s 4ms/step - loss: 0.2473 - accuracy: 0.9017 - val_loss: 0.2766 - val_accuracy: 0.8797\n",
      "Epoch 130/150\n",
      "1520/1520 [==============================] - 6s 4ms/step - loss: 0.2472 - accuracy: 0.9016 - val_loss: 0.2878 - val_accuracy: 0.8659\n",
      "Epoch 131/150\n",
      "1520/1520 [==============================] - 6s 4ms/step - loss: 0.2437 - accuracy: 0.9039 - val_loss: 0.2795 - val_accuracy: 0.8856\n",
      "Epoch 132/150\n",
      "1520/1520 [==============================] - 6s 4ms/step - loss: 0.2445 - accuracy: 0.9009 - val_loss: 0.2905 - val_accuracy: 0.8935\n",
      "Epoch 133/150\n",
      "1520/1520 [==============================] - 6s 4ms/step - loss: 0.2473 - accuracy: 0.9015 - val_loss: 0.2783 - val_accuracy: 0.8817\n",
      "Epoch 134/150\n",
      "1520/1520 [==============================] - 6s 4ms/step - loss: 0.2510 - accuracy: 0.8992 - val_loss: 0.2811 - val_accuracy: 0.8777\n",
      "Epoch 135/150\n",
      "1520/1520 [==============================] - 6s 4ms/step - loss: 0.2453 - accuracy: 0.9019 - val_loss: 0.2781 - val_accuracy: 0.8797\n",
      "Epoch 136/150\n",
      "1520/1520 [==============================] - 6s 4ms/step - loss: 0.2440 - accuracy: 0.9053 - val_loss: 0.2939 - val_accuracy: 0.8915\n",
      "Epoch 137/150\n",
      "1520/1520 [==============================] - 6s 4ms/step - loss: 0.2414 - accuracy: 0.9048 - val_loss: 0.3307 - val_accuracy: 0.8521\n",
      "Epoch 138/150\n",
      "1520/1520 [==============================] - 6s 4ms/step - loss: 0.2381 - accuracy: 0.9067 - val_loss: 0.3127 - val_accuracy: 0.8600\n",
      "Epoch 139/150\n",
      "1520/1520 [==============================] - 6s 4ms/step - loss: 0.2391 - accuracy: 0.9052 - val_loss: 0.3132 - val_accuracy: 0.8876\n",
      "Epoch 140/150\n",
      "1520/1520 [==============================] - 6s 4ms/step - loss: 0.2407 - accuracy: 0.9028 - val_loss: 0.2783 - val_accuracy: 0.8836\n",
      "Epoch 141/150\n",
      "1520/1520 [==============================] - 6s 4ms/step - loss: 0.2449 - accuracy: 0.9002 - val_loss: 0.2776 - val_accuracy: 0.8836\n",
      "Epoch 142/150\n",
      "1520/1520 [==============================] - 6s 4ms/step - loss: 0.2452 - accuracy: 0.9015 - val_loss: 0.3185 - val_accuracy: 0.8856\n",
      "Epoch 143/150\n",
      "1520/1520 [==============================] - 6s 4ms/step - loss: 0.2480 - accuracy: 0.8988 - val_loss: 0.2762 - val_accuracy: 0.8836\n",
      "Epoch 144/150\n",
      "1520/1520 [==============================] - 6s 4ms/step - loss: 0.2445 - accuracy: 0.9011 - val_loss: 0.2803 - val_accuracy: 0.8915\n",
      "Epoch 145/150\n",
      "1520/1520 [==============================] - 6s 4ms/step - loss: 0.2384 - accuracy: 0.9018 - val_loss: 0.2835 - val_accuracy: 0.8817\n",
      "Epoch 146/150\n",
      "1520/1520 [==============================] - 6s 4ms/step - loss: 0.2421 - accuracy: 0.9046 - val_loss: 0.2792 - val_accuracy: 0.8797\n",
      "Epoch 147/150\n",
      "1520/1520 [==============================] - 6s 4ms/step - loss: 0.2401 - accuracy: 0.9026 - val_loss: 0.2937 - val_accuracy: 0.8679\n",
      "Epoch 148/150\n",
      "1520/1520 [==============================] - 6s 4ms/step - loss: 0.2312 - accuracy: 0.9097 - val_loss: 0.2844 - val_accuracy: 0.8698\n",
      "Epoch 149/150\n",
      "1520/1520 [==============================] - 6s 4ms/step - loss: 0.2408 - accuracy: 0.9057 - val_loss: 0.3326 - val_accuracy: 0.8600\n",
      "Epoch 150/150\n",
      "1520/1520 [==============================] - 6s 4ms/step - loss: 0.2374 - accuracy: 0.9035 - val_loss: 0.2764 - val_accuracy: 0.8817\n"
     ]
    }
   ],
   "source": [
    "# NADH Intensity + tm\n",
    "lenet_Int_tm = Develop_Model()\n",
    "es = EarlyStopping(monitor='val_loss', mode='min', verbose=1,patience = 100)\n",
    "history = lenet_Int_tm.fit(newEnlargeTrainImage, enlargeTrainLabel, epochs = 150, batch_size = 16,validation_data=(newValidImage, validLabelM), verbose = 1,callbacks=[es])"
   ]
  },
  {
   "cell_type": "code",
   "execution_count": 80,
   "metadata": {},
   "outputs": [
    {
     "data": {
      "image/png": "[encoded data removed]",
      "text/plain": [
       "<Figure size 432x288 with 1 Axes>"
      ]
     },
     "metadata": {
      "needs_background": "light"
     },
     "output_type": "display_data"
    }
   ],
   "source": [
    "from matplotlib import pyplot\n",
    "# plot training history\n",
    "pyplot.plot(history.history['loss'], label='train')\n",
    "pyplot.plot(history.history['val_loss'], label='valid')\n",
    "pyplot.legend()\n",
    "pyplot.show()"
   ]
  },
  {
   "cell_type": "code",
   "execution_count": 88,
   "metadata": {},
   "outputs": [],
   "source": [
    "testPredictResult = lenet_Int_tm.predict(newTestImage)\n",
    "testPredictProb = [x[1] for x in testPredictResult]\n",
    "testReal = [np.argmax(i) for i in testLabelM]\n",
    "testPredict = [np.argmax(i) for i in testPredictResult]       \n",
    "precision, recall, thresholds = metrics.precision_recall_curve(testReal,testPredictProb)\n",
    "\n",
    "# Compute the roc-curve points\n",
    "fpr, tpr, roc_thresholds = metrics.roc_curve(testReal, testPredictProb)\n",
    "                \n",
    "# Compute other metrics\n",
    "acc = metrics.accuracy_score(testReal, testPredict)\n",
    "auc = metrics.roc_auc_score(testReal, testPredictProb)\n",
    "ap = metrics.average_precision_score(testReal, testPredictProb)\n",
    "rc = metrics.recall_score(testReal, testPredict)"
   ]
  },
  {
   "cell_type": "code",
   "execution_count": 72,
   "metadata": {},
   "outputs": [],
   "source": [
    "def Show_Prediction_Accuracy(model):\n",
    "    _, acc = model.evaluate(newTestImage, testLabelM, verbose=0)\n",
    "    _, valid_acc = model.evaluate(newValidImage, validLabelM, verbose=0)\n",
    "    _, train_acc = model.evaluate(newEnlargeTrainImage, enlargeTrainLabel, verbose=0)\n",
    "    print('Test Accuracy = %.3f' % (acc * 100.0))\n",
    "    print('Valid Accuracy = %.3f' % (valid_acc * 100.0))\n",
    "    print('Train Accuracy = %.3f' % (train_acc * 100.0))\n",
    "    print('AUC = %.3f' % (auc * 100.0))"
   ]
  },
  {
   "cell_type": "code",
   "execution_count": 83,
   "metadata": {},
   "outputs": [
    {
     "name": "stdout",
     "output_type": "stream",
     "text": [
      "Test Accuracy = 89.868\n",
      "Valid Accuracy = 88.166\n",
      "Train Accuracy = 92.315\n",
      "AUC = 96.161\n"
     ]
    }
   ],
   "source": [
    "Show_Prediction_Accuracy(lenet_Int_tm)"
   ]
  },
  {
   "cell_type": "code",
   "execution_count": 85,
   "metadata": {},
   "outputs": [],
   "source": [
    "from numpy import loadtxt\n",
    "from keras.models import load_model\n",
    "# Save model\n",
    "# lenet_Int.save(\"NADH_Int.h5\")\n",
    "# lenet_tm.save(\"NADH_tm.h5\")\n",
    "# lenet_Int_tm.save(\"NADH_Int_tm.h5\")"
   ]
  },
  {
   "cell_type": "markdown",
   "metadata": {},
   "source": [
    "### 6. Result Summary"
   ]
  },
  {
   "cell_type": "markdown",
   "metadata": {},
   "source": [
    "#### 6.1 Compare the AUC curve"
   ]
  },
  {
   "cell_type": "code",
   "execution_count": 54,
   "metadata": {},
   "outputs": [
    {
     "name": "stdout",
     "output_type": "stream",
     "text": [
      "\t=> acc=0.757, ap=0.765, auc=0.807, rc=0.600\n",
      "\n"
     ]
    }
   ],
   "source": [
    "##### NADH intensity model performance ####\n",
    "lenet_Int = load_model('NADH_Int.h5')\n",
    "intLETPerf = Evaluate_Prediction_Performance_CNN(newTestImage,lenet_Int,testLabelM)"
   ]
  },
  {
   "cell_type": "code",
   "execution_count": 58,
   "metadata": {},
   "outputs": [
    {
     "name": "stdout",
     "output_type": "stream",
     "text": [
      "\t=> acc=0.851, ap=0.874, auc=0.926, rc=0.813\n",
      "\n"
     ]
    }
   ],
   "source": [
    "##### NADH tm model performance ####\n",
    "lenet_tm = load_model('NADH_tm.h5')\n",
    "tmLETPerf = Evaluate_Prediction_Performance_CNN(newTestImage,lenet_tm,testLabelM)"
   ]
  },
  {
   "cell_type": "code",
   "execution_count": 62,
   "metadata": {},
   "outputs": [
    {
     "name": "stdout",
     "output_type": "stream",
     "text": [
      "\t=> acc=0.899, ap=0.952, auc=0.962, rc=0.845\n",
      "\n"
     ]
    }
   ],
   "source": [
    "lenet_Int_tm = load_model('NADH_Int_tm.h5')\n",
    "int_tmLETPerf = Evaluate_Prediction_Performance_CNN(newTestImage,lenet_Int_tm,testLabelM)"
   ]
  },
  {
   "cell_type": "code",
   "execution_count": 63,
   "metadata": {},
   "outputs": [],
   "source": [
    "# define a function to get the fprs, and tprs\n",
    "def Get_Fprs_Tprs(modelPerformance):\n",
    "    fprs = modelPerformance[3]\n",
    "    tprs = modelPerformance[4]\n",
    "    return(fprs,tprs)\n",
    "\n",
    "# define a function to get the recalls, precisions\n",
    "def Get_Recalls_Precisions(modelPerformance):\n",
    "    recalls = modelPerformance[0]\n",
    "    precisions = modelPerformance[1]\n",
    "    return(recalls,precisions)"
   ]
  },
  {
   "cell_type": "code",
   "execution_count": 78,
   "metadata": {},
   "outputs": [],
   "source": [
    "# NADH FLIM\n",
    "(flimLetFprs,flimLetTprs) = Get_Fprs_Tprs(flimLETPerf)\n",
    "(flimLetRecalls,flimLetPrecisions) = Get_Recalls_Precisions(flimLETPerf)\n",
    "# NADH Int\n",
    "(intLetFprs,intLetTprs) = Get_Fprs_Tprs(intLETPerf)\n",
    "(intLetRecalls,intLetPrecisions) = Get_Recalls_Precisions(intLETPerf)\n",
    "# NADH tm\n",
    "(tmLetFprs,tmLetTprs) = Get_Fprs_Tprs(tmLETPerf)\n",
    "(tmLetRecalls,tmLetPrecisions) = Get_Recalls_Precisions(tmLETPerf)\n",
    "# NADH tm + Int\n",
    "(int_tmLetFprs,int_tmLetTprs) = Get_Fprs_Tprs(int_tmLETPerf)\n",
    "(int_tmLetRecalls,int_tmLetPrecisions) = Get_Recalls_Precisions(int_tmLETPerf)\n",
    "\n",
    "# SVM\n",
    "(svmFprs,svmTprs) = Get_Fprs_Tprs(svmPerf)\n",
    "(svmRecalls,svmPrecisions) = Get_Recalls_Precisions(svmPerf)\n",
    "# RFT\n",
    "(rftFprs,rftTprs) = Get_Fprs_Tprs(rftPerf)\n",
    "(rftRecalls,rftPrecisions) = Get_Recalls_Precisions(rftPerf)\n",
    "# QDA\n",
    "(qdaFprs,qdaTprs) = Get_Fprs_Tprs(qdaPerf)\n",
    "(qdaRecalls,qdaPrecisions) = Get_Recalls_Precisions(qdaPerf)"
   ]
  },
  {
   "cell_type": "code",
   "execution_count": 86,
   "metadata": {},
   "outputs": [
    {
     "data": {
      "image/png": "[encoded data removed]",
      "text/plain": [
       "<Figure size 1440x720 with 2 Axes>"
      ]
     },
     "metadata": {
      "needs_background": "light"
     },
     "output_type": "display_data"
    }
   ],
   "source": [
    "fig, ax = plt.subplots(1, 2, figsize=(20,10))\n",
    "\n",
    "ax[0].plot(intLetRecalls,intLetPrecisions, linestyle = 'solid',color = 'purple',label='CNN Int')\n",
    "ax[0].plot(tmLetRecalls,tmLetPrecisions, linestyle = 'solid',color = 'green',label='CNN tm')\n",
    "ax[0].plot(int_tmLetRecalls,int_tmLetPrecisions, linestyle = 'solid',color = 'blue',label='CNN Int + tm')\n",
    "ax[0].plot(flimLetRecalls,flimLetPrecisions, linestyle = 'solid',color = 'black',label='CNN FLIM')\n",
    "\n",
    "ax[0].plot(svmRecalls,svmPrecisions, linestyle = 'solid',color = 'cyan',label='SVM')\n",
    "ax[0].plot(rftRecalls,rftPrecisions, linestyle = 'solid',color = 'red',label='RFT')\n",
    "ax[0].plot(qdaRecalls,qdaPrecisions, linestyle = 'solid',color = 'brown',label='QDA')\n",
    "\n",
    "ax[0].set_title(\"LeNet: Precision-Recall Curve\",fontsize=25)\n",
    "ax[0].set_xlabel(\"Precison\",fontsize=20)\n",
    "ax[0].set_ylabel(\"Recall\",fontsize=20)\n",
    "ax[0].legend(loc=3)\n",
    "\n",
    "\n",
    "\n",
    "ax[1].plot(intLetFprs,intLetTprs, linestyle = 'solid',color = 'purple',label='CNN Int')\n",
    "ax[1].plot(tmLetFprs,tmLetTprs, linestyle = 'solid',color = 'green',label='CNN tm')\n",
    "ax[1].plot(int_tmLetFprs,int_tmLetTprs, linestyle = 'solid',color = 'blue',label='CNN Int + tm')\n",
    "ax[1].plot(flimLetFprs,flimLetTprs, linestyle = 'solid',color = 'black',label='CNN FLIM')\n",
    "\n",
    "ax[1].plot(svmFprs,svmTprs, linestyle = 'solid',color = 'cyan',label='SVM')\n",
    "ax[1].plot(rftFprs,rftTprs, linestyle = 'solid',color = 'red',label='RFT')\n",
    "ax[1].plot(qdaFprs,qdaTprs, linestyle = 'solid',color = 'brown',label='QDA')\n",
    "\n",
    "ax[1].set_title(\"LeNet: Receiver Operating Characteristic Curve\",fontsize=25)\n",
    "ax[1].set_xlabel(\"False Positive Rate\",fontsize=20)\n",
    "ax[1].set_ylabel(\"True Positive Rate\",fontsize=20)\n",
    "\n",
    "ax[1].legend(loc=4)\n",
    "plt.show()"
   ]
  },
  {
   "cell_type": "markdown",
   "metadata": {},
   "source": [
    "#### 6.2 Current Summary"
   ]
  },
  {
   "cell_type": "raw",
   "metadata": {},
   "source": [
    "Current CNN accuracy is around 94%, 5%(89%) higher than the random forest tree result, 6%(87%) higher than SVM, 6%(87%) higher than QDA.\n",
    "\n",
    "We anticipate it can perform better when we have more data.\n",
    "The difference of val loss and train loss, because there is replicated images in the testing dataset.\n",
    "\n",
    "We can achieve an accuracy of 93% when tring the all NADH FLIM endpoint images together(40 x 40 x 5)\n",
    "The prediction wrong images can be analyzed in the discussion part. "
   ]
  },
  {
   "cell_type": "markdown",
   "metadata": {},
   "source": [
    "### TRANSFER LEARNING "
   ]
  },
  {
   "cell_type": "code",
   "execution_count": 109,
   "metadata": {},
   "outputs": [
    {
     "name": "stdout",
     "output_type": "stream",
     "text": [
      "(24320, 40, 40, 3)\n",
      "(507, 40, 40, 3)\n",
      "(1520, 40, 40, 3)\n"
     ]
    }
   ],
   "source": [
    "### Transfer Learning with VGG 16, Intensity, tm, a1\n",
    "tEnlargeTrainImage = enlargeTrainImage[:,:,:,[0,1,4]]\n",
    "tValidImage = validImage[:,:,:,[0,1,4]]\n",
    "tTestImage = testImage[:,:,:,[0,1,4]]\n",
    "print(tEnlargeTrainImage.shape)\n",
    "print(tValidImage.shape)\n",
    "print(tTestImage.shape)"
   ]
  },
  {
   "cell_type": "code",
   "execution_count": 81,
   "metadata": {},
   "outputs": [
    {
     "name": "stdout",
     "output_type": "stream",
     "text": [
      "Model: \"model_1\"\n",
      "_________________________________________________________________\n",
      "Layer (type)                 Output Shape              Param #   \n",
      "=================================================================\n",
      "input_2 (InputLayer)         [(None, 40, 40, 3)]       0         \n",
      "_________________________________________________________________\n",
      "block1_conv1 (Conv2D)        (None, 40, 40, 64)        1792      \n",
      "_________________________________________________________________\n",
      "block1_conv2 (Conv2D)        (None, 40, 40, 64)        36928     \n",
      "_________________________________________________________________\n",
      "block1_pool (MaxPooling2D)   (None, 20, 20, 64)        0         \n",
      "_________________________________________________________________\n",
      "block2_conv1 (Conv2D)        (None, 20, 20, 128)       73856     \n",
      "_________________________________________________________________\n",
      "block2_conv2 (Conv2D)        (None, 20, 20, 128)       147584    \n",
      "_________________________________________________________________\n",
      "block2_pool (MaxPooling2D)   (None, 10, 10, 128)       0         \n",
      "_________________________________________________________________\n",
      "block3_conv1 (Conv2D)        (None, 10, 10, 256)       295168    \n",
      "_________________________________________________________________\n",
      "block3_conv2 (Conv2D)        (None, 10, 10, 256)       590080    \n",
      "_________________________________________________________________\n",
      "block3_conv3 (Conv2D)        (None, 10, 10, 256)       590080    \n",
      "_________________________________________________________________\n",
      "block3_pool (MaxPooling2D)   (None, 5, 5, 256)         0         \n",
      "_________________________________________________________________\n",
      "block4_conv1 (Conv2D)        (None, 5, 5, 512)         1180160   \n",
      "_________________________________________________________________\n",
      "block4_conv2 (Conv2D)        (None, 5, 5, 512)         2359808   \n",
      "_________________________________________________________________\n",
      "block4_conv3 (Conv2D)        (None, 5, 5, 512)         2359808   \n",
      "_________________________________________________________________\n",
      "block4_pool (MaxPooling2D)   (None, 2, 2, 512)         0         \n",
      "_________________________________________________________________\n",
      "block5_conv1 (Conv2D)        (None, 2, 2, 512)         2359808   \n",
      "_________________________________________________________________\n",
      "block5_conv2 (Conv2D)        (None, 2, 2, 512)         2359808   \n",
      "_________________________________________________________________\n",
      "block5_conv3 (Conv2D)        (None, 2, 2, 512)         2359808   \n",
      "_________________________________________________________________\n",
      "block5_pool (MaxPooling2D)   (None, 1, 1, 512)         0         \n",
      "_________________________________________________________________\n",
      "flatten_9 (Flatten)          (None, 512)               0         \n",
      "_________________________________________________________________\n",
      "dense_18 (Dense)             (None, 1024)              525312    \n",
      "_________________________________________________________________\n",
      "dense_19 (Dense)             (None, 2)                 2050      \n",
      "=================================================================\n",
      "Total params: 15,242,050\n",
      "Trainable params: 15,242,050\n",
      "Non-trainable params: 0\n",
      "_________________________________________________________________\n"
     ]
    }
   ],
   "source": [
    "# example of tending the vgg16 model\n",
    "from keras.applications.vgg16 import VGG16\n",
    "from keras.models import Model\n",
    "from keras.layers import Dense\n",
    "from keras.layers import Flatten\n",
    "\n",
    "# load model without classifier layers\n",
    "model = VGG16(include_top=False, input_shape=(40, 40, 3))\n",
    "# add new classifier layers\n",
    "flat1 = Flatten()(model.layers[-1].output)\n",
    "class1 = Dense(1024, activation='relu')(flat1)\n",
    "output = Dense(2, activation='softmax')(class1)\n",
    "# define new model\n",
    "model = Model(inputs=model.inputs, outputs=output)\n",
    "# summarize\n",
    "model.summary()"
   ]
  },
  {
   "cell_type": "code",
   "execution_count": 82,
   "metadata": {
    "scrolled": true
   },
   "outputs": [
    {
     "name": "stdout",
     "output_type": "stream",
     "text": [
      "Epoch 1/10\n",
      "3040/3040 [==============================] - 65s 21ms/step - loss: 0.3666 - accuracy: 0.8402 - val_loss: 0.2685 - val_accuracy: 0.8856\n",
      "Epoch 2/10\n",
      "3040/3040 [==============================] - 66s 22ms/step - loss: 0.2152 - accuracy: 0.9143 - val_loss: 0.2336 - val_accuracy: 0.9172\n",
      "Epoch 3/10\n",
      "3040/3040 [==============================] - 67s 22ms/step - loss: 0.1654 - accuracy: 0.9373 - val_loss: 0.2393 - val_accuracy: 0.8994\n",
      "Epoch 4/10\n",
      "3040/3040 [==============================] - 68s 22ms/step - loss: 0.1422 - accuracy: 0.9445 - val_loss: 0.2270 - val_accuracy: 0.9152\n",
      "Epoch 5/10\n",
      "3040/3040 [==============================] - 68s 22ms/step - loss: 0.1199 - accuracy: 0.9542 - val_loss: 0.2200 - val_accuracy: 0.9191\n",
      "Epoch 6/10\n",
      "3040/3040 [==============================] - 68s 22ms/step - loss: 0.1095 - accuracy: 0.9572 - val_loss: 0.2312 - val_accuracy: 0.9132\n",
      "Epoch 7/10\n",
      "3040/3040 [==============================] - 68s 22ms/step - loss: 0.0936 - accuracy: 0.9637 - val_loss: 0.2870 - val_accuracy: 0.9132\n",
      "Epoch 8/10\n",
      "3040/3040 [==============================] - 68s 22ms/step - loss: 0.0825 - accuracy: 0.9677 - val_loss: 0.2575 - val_accuracy: 0.9014\n",
      "Epoch 9/10\n",
      "3040/3040 [==============================] - 69s 23ms/step - loss: 0.0649 - accuracy: 0.9749 - val_loss: 0.2456 - val_accuracy: 0.9191\n",
      "Epoch 10/10\n",
      "3040/3040 [==============================] - 68s 22ms/step - loss: 0.0577 - accuracy: 0.9783 - val_loss: 0.3985 - val_accuracy: 0.9112\n",
      "= 93.026\n"
     ]
    }
   ],
   "source": [
    "opt = SGD(lr=0.001, momentum=0.9)\n",
    "model.compile(optimizer=opt, loss='binary_crossentropy', metrics=['accuracy'])\n",
    "\n",
    "history = model.fit(enlargeTrainImage, enlargeTrainLabel, epochs = 10, batch_size = 8,validation_data=(validImage, validLabelM), verbose=1)"
   ]
  },
  {
   "cell_type": "code",
   "execution_count": 83,
   "metadata": {},
   "outputs": [
    {
     "name": "stdout",
     "output_type": "stream",
     "text": [
      "= 93.026\n",
      "= 91.124\n"
     ]
    }
   ],
   "source": [
    "# evaluate model\n",
    "_, acc = model.evaluate(testImage, testLabelM, verbose=0)\n",
    "print('= %.3f' % (acc * 100.0))\n",
    "_, valid_acc = model.evaluate(validImage, validLabelM, verbose=0)\n",
    "print('= %.3f' % (valid_acc * 100.0))"
   ]
  }
 ],
 "metadata": {
  "kernelspec": {
   "display_name": "Python 3",
   "language": "python",
   "name": "python3"
  },
  "language_info": {
   "codemirror_mode": {
    "name": "ipython",
    "version": 3
   },
   "file_extension": ".py",
   "mimetype": "text/x-python",
   "name": "python",
   "nbconvert_exporter": "python",
   "pygments_lexer": "ipython3",
   "version": "3.8.5"
  }
 },
 "nbformat": 4,
 "nbformat_minor": 4
}
